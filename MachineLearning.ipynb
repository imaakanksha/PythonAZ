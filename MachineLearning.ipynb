{
 "cells": [
  {
   "cell_type": "markdown",
   "metadata": {},
   "source": [
    "Seven Steps we need to take to build a Perfect Machine Learning Project\n",
    "1)Form a Hypothesis : We can predict how many medals a country will win in the Olympics.\n",
    "2)Find the Data :We can use the data from the Summer Olympics\n",
    "3)Reshape the Data : We have to reshape the data to make the Machine Learning Prediction Possible.\n",
    "4)Clean the Data:After reshaping, we need to clean the data to make sure that the data is ready for the Machine Learning.We need to handle the missing values.\n",
    "5)Error Metric:This is used to calculate the Performance of our Machine Learning Model.Mean Absolute Error\n",
    "6)Split the Data:We need to split the data becuse we want to train on one part of Data and test its predictions on another part of data. There are Training Data, and Test Data.We would train the algorithm on training data and then test it on the Test Data and measure the Mean Absolute Error.\n",
    "7) Train a Model: We are going to use the Linear Regression. y = ax + b"
   ]
  },
  {
   "cell_type": "markdown",
   "metadata": {},
   "source": [
    "import pandas as pd\n",
    "teams = pd.read_csv(\"teams.csv)"
   ]
  }
 ],
 "metadata": {
  "kernelspec": {
   "display_name": "Python 3",
   "language": "python",
   "name": "python3"
  },
  "language_info": {
   "name": "python",
   "version": "3.13.0"
  }
 },
 "nbformat": 4,
 "nbformat_minor": 2
}
