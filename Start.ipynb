{
 "cells": [
  {
   "cell_type": "code",
   "execution_count": 5,
   "metadata": {},
   "outputs": [
    {
     "name": "stdout",
     "output_type": "stream",
     "text": [
      "Starting the new Python Course\n",
      "You think that you are free.\n",
      "\n",
      "But there is not a thought\n",
      "an emotion, an attitude\n",
      "and belief in you\n",
      "that is not coming\n",
      "from some others.\n",
      "\n",
      "And you do not know it.\n",
      "\n",
      "Are you really free? ?\n",
      "\n",
      "You feel pretty strong\n",
      "about certain things.\n",
      "But are you really?\n",
      "\n",
      "You are a result of\n",
      "Your conditioning\n",
      "and programming.\n",
      "\n",
      "You are not free.\n"
     ]
    }
   ],
   "source": [
    "#1. Modules, Comments, PIP\n",
    "print(\"Starting the new Python Course\")\n",
    "#To Print Multiline Strings.\n",
    "print('''You think that you are free.\n",
    "\n",
    "But there is not a thought\n",
    "an emotion, an attitude\n",
    "and belief in you\n",
    "that is not coming\n",
    "from some others.\n",
    "\n",
    "And you do not know it.\n",
    "\n",
    "Are you really free? ?\n",
    "\n",
    "You feel pretty strong\n",
    "about certain things.\n",
    "But are you really?\n",
    "\n",
    "You are a result of\n",
    "Your conditioning\n",
    "and programming.\n",
    "\n",
    "You are not free.''')"
   ]
  },
  {
   "cell_type": "code",
   "execution_count": null,
   "metadata": {},
   "outputs": [
    {
     "name": "stdout",
     "output_type": "stream",
     "text": [
      "You think that you are free.\n",
      "\n",
      "But there is not a thought\n",
      "an emotion, an attitude\n",
      "and belief in you\n",
      "that is not coming\n",
      "from some others.\n",
      "\n",
      "And you do not know it.\n",
      "\n",
      "Are you really free? ?\n",
      "\n",
      "You feel pretty strong\n",
      "about certain things.\n",
      "But are you really?\n",
      "\n",
      "You are a result of\n",
      "Your conditioning\n",
      "and programming.\n",
      "\n",
      "You are not free.\n"
     ]
    }
   ],
   "source": [
    "#To print multiline string\n",
    "print('''You think that you are free.\n",
    "\n",
    "But there is not a thought\n",
    "an emotion, an attitude\n",
    "and belief in you\n",
    "that is not coming\n",
    "from some others.\n",
    "\n",
    "And you do not know it.\n",
    "\n",
    "Are you really free? ?\n",
    "\n",
    "You feel pretty strong\n",
    "about certain things.\n",
    "But are you really?\n",
    "\n",
    "You are a result of\n",
    "Your conditioning\n",
    "and programming.\n",
    "\n",
    "You are not free.''')"
   ]
  },
  {
   "cell_type": "code",
   "execution_count": 11,
   "metadata": {},
   "outputs": [
    {
     "name": "stdout",
     "output_type": "stream",
     "text": [
      "5\n",
      "10\n",
      "15\n",
      "20\n",
      "25\n",
      "30\n",
      "35\n",
      "40\n",
      "45\n",
      "50\n"
     ]
    }
   ],
   "source": [
    "#Print table of 5\n",
    "for i in range(1,11):\n",
    "    print(5*i)"
   ]
  },
  {
   "cell_type": "code",
   "execution_count": 18,
   "metadata": {},
   "outputs": [
    {
     "name": "stdout",
     "output_type": "stream",
     "text": [
      "$Recycle.Bin\n",
      "Documents and Settings\n",
      "DumpStack.log.tmp\n",
      "hiberfil.sys\n",
      "Intel\n",
      "mySingle\n",
      "pagefile.sys\n",
      "PaperSecu\n",
      "PerfLogs\n",
      "Program Files\n",
      "Program Files (x86)\n",
      "ProgramData\n",
      "Recovery\n",
      "swapfile.sys\n",
      "System Volume Information\n",
      "Temp\n",
      "Users\n",
      "Windows\n"
     ]
    }
   ],
   "source": [
    "#\"\"\"Write a Python Program to print \n",
    "#the contents of a directory using the os module.\"\"\"\n",
    "import os\n",
    "#Specify the directory you want to list\n",
    "directory_path = '/'\n",
    "#List all the files and directories in the specified path\n",
    "contents = os.listdir(directory_path)\n",
    "\n",
    "#Print each file and directory name\n",
    "for item in contents:\n",
    "    print(item)"
   ]
  },
  {
   "cell_type": "code",
   "execution_count": 22,
   "metadata": {},
   "outputs": [
    {
     "name": "stdout",
     "output_type": "stream",
     "text": [
      "46\n"
     ]
    }
   ],
   "source": [
    "#Variables and Datatypes\n",
    "#Variables: Integers,Floating Point Numbers, Strings, Booleans, None\n",
    "\n",
    "a=1\n",
    "b=45\n",
    "print(a+b)\n",
    "a=1 # a is an integer\n",
    "b=2.22 # b is a floating point number\n",
    "c=\"Harry\" # c is a string\n",
    "d=False #d is a boolean variable\n",
    "e=None #e is a none type variable"
   ]
  },
  {
   "cell_type": "code",
   "execution_count": 35,
   "metadata": {},
   "outputs": [
    {
     "name": "stdout",
     "output_type": "stream",
     "text": [
      "79\n",
      "9\n",
      "6\n",
      "False\n",
      "False\n",
      "True\n",
      "Truth Table of OR\n",
      "True or False is True\n",
      "True or True is True\n",
      "False or True is True\n",
      "False or False is False\n"
     ]
    }
   ],
   "source": [
    "#Arithmetic Operators\n",
    "a=34\n",
    "b=45\n",
    "c=a+b\n",
    "print(c)\n",
    "#Assignment Operator\n",
    "a=4-2 # Assign 4-2 in a\n",
    "b=6\n",
    "b += 3 # Increment the value of b by c and then assign it to b\n",
    "print(b)\n",
    "b-=3\n",
    "print(b)# Decrement the value of b by c and then assign it to b\n",
    "#Comparison Operators returns boolean i.e. True or False\n",
    "#==,>,>=,<=,<,!=\n",
    "d=5<4\n",
    "print(d)\n",
    "d=5 !=5\n",
    "print(d)\n",
    "#Logical Operators\n",
    "e= True or False\n",
    "print(e)\n",
    "\n",
    "#Truth Table of OR\n",
    "print(\"Truth Table of OR\")\n",
    "print(\"True or False is\", True or False)\n",
    "print(\"True or True is\", True or True)\n",
    "print(\"False or True is\", False or True)\n",
    "print(\"False or False is\", False or False)\n",
    "\n",
    "# #Truth Table of AND\n",
    "# print(\"Truth Table of AND\")\n",
    "# print(\"True AND False is\", True AND False)\n",
    "# # print(\"True AND True is\", True AND True)\n",
    "# # print(\"False AND True is\", False AND True)\n",
    "# # print(\"False AND False is\", False AND False)"
   ]
  },
  {
   "cell_type": "code",
   "execution_count": 37,
   "metadata": {},
   "outputs": [
    {
     "name": "stdout",
     "output_type": "stream",
     "text": [
      "True and False is False\n",
      "True and True is True\n",
      "False and True is False\n",
      "False and False is False\n",
      "True\n",
      "False\n"
     ]
    }
   ],
   "source": [
    "#Truth Table of AND\n",
    "\n",
    "print(\"True and False is\", True and False)\n",
    "print(\"True and True is\", True and True)\n",
    "print(\"False and True is\", False and True)\n",
    "print(\"False and False is\", False and False)\n",
    "\n",
    "print(not(False))\n",
    "print(not(True))"
   ]
  },
  {
   "cell_type": "code",
   "execution_count": 41,
   "metadata": {},
   "outputs": [
    {
     "name": "stdout",
     "output_type": "stream",
     "text": [
      "<class 'int'>\n",
      "<class 'float'>\n",
      "<class 'str'>\n",
      "<class 'str'>\n",
      "<class 'int'>\n",
      "<class 'str'>\n",
      "<class 'int'>\n"
     ]
    }
   ],
   "source": [
    "a=32\n",
    "b=32.4\n",
    "c=\"Ram\"\n",
    "d=True\n",
    "print(type(a))\n",
    "print(type(b))\n",
    "print(type(c))\n",
    "print(type(c))\n",
    "e=67\n",
    "str(e)\n",
    "print(type(e))\n",
    "f=\"34\"\n",
    "float(f)\n",
    "print(type(f))\n",
    "g=89\n",
    "int(g)\n",
    "print(type(g))"
   ]
  },
  {
   "cell_type": "code",
   "execution_count": 45,
   "metadata": {},
   "outputs": [
    {
     "name": "stdout",
     "output_type": "stream",
     "text": [
      "NUmber a is : 4\n",
      "NUmber b is : 7\n",
      "Sum is 11\n"
     ]
    }
   ],
   "source": [
    "#INPUT Function\n",
    "a=int(input(\"Enter number 1\"))\n",
    "b=int(input(\"Enter number 2\"))\n",
    "print(\"NUmber a is :\", a)\n",
    "print(\"NUmber b is :\", b)\n",
    "print(\"Sum is\", a+b)"
   ]
  },
  {
   "cell_type": "code",
   "execution_count": 47,
   "metadata": {},
   "outputs": [
    {
     "name": "stdout",
     "output_type": "stream",
     "text": [
      "The Sum of the Two Numbers is : 13\n"
     ]
    }
   ],
   "source": [
    "#Write a Python Program to add two Numbers.\n",
    "a=int(input(\"Enter the value of the first number:\"))\n",
    "b=int(input(\"Enter the value of the second number:\"))\n",
    "print(\"The Sum of the Two Numbers is :\", a+b)"
   ]
  },
  {
   "cell_type": "code",
   "execution_count": 49,
   "metadata": {},
   "outputs": [
    {
     "name": "stdout",
     "output_type": "stream",
     "text": [
      "The Sum of the Two Numbers is : 4\n"
     ]
    }
   ],
   "source": [
    "#Write a Python Program to find reminder when a number is divided by z.\n",
    "a=int(input(\"Enter the value of the first number:\"))\n",
    "b=int(input(\"Enter the value of the second number:\"))\n",
    "print(\"The Sum of the Two Numbers is :\", a%b)"
   ]
  },
  {
   "cell_type": "code",
   "execution_count": 53,
   "metadata": {},
   "outputs": [
    {
     "name": "stdout",
     "output_type": "stream",
     "text": [
      "<class 'str'>\n"
     ]
    }
   ],
   "source": [
    "#Check the type of variable assigned using the input() function.\n",
    "\n",
    "a=input(\"Enter the value of a\")\n",
    "print(type(a))"
   ]
  },
  {
   "cell_type": "code",
   "execution_count": 54,
   "metadata": {},
   "outputs": [
    {
     "name": "stdout",
     "output_type": "stream",
     "text": [
      "a is greater than b is True\n"
     ]
    }
   ],
   "source": [
    "# Use Comparison Operator to find out whether a given variable a is greater than \"b\" or not. Take a=34 and b=80\n",
    "\n",
    "a=int(input(\"Enter the value of number 1: \"))\n",
    "b=int(input(\"Enter the value of number 2: \"))\n",
    "print(\"a is greater than b is\", a>b)\n"
   ]
  },
  {
   "cell_type": "code",
   "execution_count": 55,
   "metadata": {},
   "outputs": [
    {
     "name": "stdout",
     "output_type": "stream",
     "text": [
      "The average of the given Two numbers is 10.0\n"
     ]
    }
   ],
   "source": [
    "#Write a Python Program to find an average of two numbers entered by the user.\n",
    "a=int(input(\"Enter the value of the first number:\"))\n",
    "b=int(input(\"Enter the value of the second number:\"))\n",
    "print(\"The average of the given Two numbers is\", a+b/2)"
   ]
  },
  {
   "cell_type": "code",
   "execution_count": 1,
   "metadata": {},
   "outputs": [
    {
     "name": "stdout",
     "output_type": "stream",
     "text": [
      "The square of the given number is 64\n"
     ]
    }
   ],
   "source": [
    "#Write a python program to calculate the square of a number entered by the user.\n",
    "a=int(input(\"Enter the value of number\"))\n",
    "print(\"The square of the given number is\", a**2)"
   ]
  },
  {
   "cell_type": "code",
   "execution_count": null,
   "metadata": {},
   "outputs": [
    {
     "name": "stdout",
     "output_type": "stream",
     "text": [
      "knsa\n",
      "k\n",
      "a\n",
      "s\n",
      "shr\n",
      "Akanksha Mishra\n",
      "Akanksh\n",
      "anksha Mishra\n",
      "knsa\n",
      "15\n",
      "False\n",
      "True\n",
      "Akanksha mishra\n",
      "AKANKSHA MISHRA\n",
      "akanksha mishra\n",
      "Akanksha Mishra\n",
      "9\n",
      "Akanksha Jha\n"
     ]
    }
   ],
   "source": [
    "#Strings: String is a Data Type in Python. It is a sequence of characters enclosed in quotes.\n",
    "#We can primarily write a string in these three ways.\n",
    "# a='harry' #Single Quoted String\n",
    "# b=\"harry\" #Double Quoted String\n",
    "# c='''Akanksha''' # Triple quoted String\n",
    "\n",
    "#STRING SLICING\n",
    "#A String in Python can be sliced for getting a part of the strings.\n",
    "#String is imutable.\n",
    "#Strings are imutable which means that you cannot change them by running functions on them.\n",
    "\n",
    "name=\"Akanksha Mishra\"\n",
    "nameshort=name[1:8:2]\n",
    "print(nameshort)\n",
    "print(name[1])\n",
    "print(name[7])\n",
    "print(name[-4])\n",
    "print(name[-4:-1])\n",
    "print(name[:])\n",
    "print(name[:7])\n",
    "print(name[2:])\n",
    "# The index in a string starts from 0 to (length-1) in Python. In order to slice a string. We use the following syntax.\n",
    "# sl=name[ind_start:ind_last]\n",
    "# Negative Indices: Negative indices can also be used as shown in the figure above,-1 corresponds to the (length-1)index, -2 to (length-2)\n",
    "#nameshort=name[0:3] #start from index 0 all the way till 3 (excluding 3)\n",
    "#Slicing with SKIP Value\n",
    "print(name[1:8:2])\n",
    "\n",
    "#STRING FUNCTIONS\n",
    "\n",
    "print(len(name))\n",
    "print(name.endswith(\"sha\"))\n",
    "print(name.startswith(\"Aka\")) #String Function is Case Sensitive\n",
    "print(name.capitalize())\n",
    "print(name.upper())\n",
    "print(name.lower())\n",
    "print(name.title())\n",
    "print(name.find(\"Mishra\"))\n",
    "print(name.replace(\"Mishra\",\"Jha\"))"
   ]
  },
  {
   "cell_type": "code",
   "execution_count": 18,
   "metadata": {},
   "outputs": [
    {
     "name": "stdout",
     "output_type": "stream",
     "text": [
      "Akanksha is a great \"Python\" Developer.\n",
      " She also have the knowledge of Artificial Intelligence \t and Machine Learning.\n"
     ]
    }
   ],
   "source": [
    "#Escape Sequence Charachters\n",
    "#Sequence of Characters after backslash \"\\\" - Escape Sequence characters\n",
    "#Escape Sequence Characters comprise of more than one character but represent one character when used within the strings.\n",
    "#Example:\n",
    "# \\n = newline\n",
    "# \\t = TabError\n",
    "# ; = Singlequote\n",
    "# \\ = backslash\n",
    "\n",
    "a = \"Akanksha is a great \\\"Python\\\" Developer.\\n She also have the knowledge of Artificial Intelligence \\t and Machine Learning.\"\n",
    "print(a)"
   ]
  },
  {
   "cell_type": "code",
   "execution_count": 24,
   "metadata": {},
   "outputs": [
    {
     "name": "stdout",
     "output_type": "stream",
     "text": [
      "Good Afternoon Pratiksha\n",
      "Good Afternoon Akanksha Mishra\n"
     ]
    }
   ],
   "source": [
    "#Write a Python Program to display a user entered name followed by Good Afternoon using input() function.\n",
    "a=input(\"Enter the value of the name of the user:\")\n",
    "print(\"Good Afternoon\", a)\n",
    "print(f\"Good Afternoon {name}\")"
   ]
  },
  {
   "cell_type": "code",
   "execution_count": 25,
   "metadata": {},
   "outputs": [
    {
     "name": "stdout",
     "output_type": "stream",
     "text": [
      "\n",
      "        Dear Akanksha,\n",
      "        You are selected!\n",
      "        20th November, 2024\n",
      "        \n"
     ]
    }
   ],
   "source": [
    "#Write a Program to fill in a letter template given below with the name and date.\n",
    "letter='''\n",
    "        Dear <|Name|>,\n",
    "        You are selected!\n",
    "        <|Date|>\n",
    "        '''\n",
    "print(letter.replace(\"<|Name|>\", \"Akanksha\").replace(\"<|Date|>\",\"20th November, 2024\"))"
   ]
  },
  {
   "cell_type": "code",
   "execution_count": 26,
   "metadata": {},
   "outputs": [
    {
     "name": "stdout",
     "output_type": "stream",
     "text": [
      "28\n"
     ]
    }
   ],
   "source": [
    "#Write a program to detect double space in a string.\n",
    "name=\"Akanksha is a great Software   Developer\"\n",
    "print(name.find(\"  \"))"
   ]
  },
  {
   "cell_type": "code",
   "execution_count": 27,
   "metadata": {},
   "outputs": [
    {
     "name": "stdout",
     "output_type": "stream",
     "text": [
      "Akanksha is a great Software  Developer\n"
     ]
    }
   ],
   "source": [
    "#Replace the double spacefrom problem 3 with single spaces.\n",
    "print(name.replace(\"  \",\" \"))"
   ]
  },
  {
   "cell_type": "code",
   "execution_count": 31,
   "metadata": {},
   "outputs": [
    {
     "name": "stdout",
     "output_type": "stream",
     "text": [
      "Dear Akanksha,\n",
      "\t This Python course is nice.\n",
      " Thanks!\n"
     ]
    }
   ],
   "source": [
    "#Write a program to format the following letter using the escape sequence characters.\n",
    "letter = \"Dear Akanksha,\\n\\t This Python course is nice.\\n Thanks!\"\n",
    "print(letter)"
   ]
  },
  {
   "cell_type": "code",
   "execution_count": 13,
   "metadata": {},
   "outputs": [
    {
     "name": "stdout",
     "output_type": "stream",
     "text": [
      "Apple\n",
      "['Summi', 'Orange', 4, 456.234, False, 'Akanksha', True, 'Rohan']\n",
      "k\n",
      "kan\n",
      "['Riya', 8, 34.54, 'Rehan', 'Mango', 'Pune', True, False, 0, 'Ganga']\n",
      "['Riya', 8, 34.54, 'Rehan', 'Mango', 'Pune', True, False, 0, 'Ganga', 'Radha']\n",
      "[3, 4, 5, 5, 7, 7, 11, 33, 66]\n",
      "[66, 33, 11, 7, 7, 5, 5, 4, 3]\n",
      "[66, 33, 11, 7, 7, 5, 5, 4, 3, 4]\n",
      "[66, 33, 11, 7, 5, 5, 4, 3, 4]\n",
      "[66, 33, 11, 5, 5, 4, 3, 4]\n"
     ]
    }
   ],
   "source": [
    "#List = Python lists are containers to store a set of values of any data type.mro\n",
    "friends=[\"Apple\",\"Orange\",4,456.234, False, \"Akanksha\", True, \"Rohan\"]\n",
    "print(friends[0])\n",
    "friends[0]=\"Summi\"\n",
    "print(friends)\n",
    "friends=\"Akanksha\"\n",
    "print(friends[1])\n",
    "#Strings are immutable but Lists are mutable.\n",
    "print(friends[1:4])\n",
    "Office=[\"Riya\",8,34.54,\"Rehan\",\"Mango\",\"Pune\",True, False, 0, \"Ganga\"]\n",
    "print(Office)\n",
    "Office.append(\"Radha\")\n",
    "print(Office)\n",
    "list1=[7,3,11,4,33,5,66,7,5]\n",
    "#sort\n",
    "list1.sort()\n",
    "print(list1)\n",
    "#reverse\n",
    "list1.reverse()\n",
    "print(list1)\n",
    "list1.insert(222, 4) #Insert 222 in the list1 such that its index is4l\n",
    "print(list1)\n",
    "list1.pop(3)\n",
    "print(list1)\n",
    "list1.remove(7)\n",
    "print(list1)"
   ]
  },
  {
   "cell_type": "code",
   "execution_count": 25,
   "metadata": {},
   "outputs": [
    {
     "name": "stdout",
     "output_type": "stream",
     "text": [
      "<class 'tuple'>\n",
      "<class 'int'>\n",
      "<class 'tuple'>\n",
      "<class 'tuple'>\n",
      "(1, 3.5, 22, 'Rani', 'Rishabh', 'Delhi', 'Pune')\n",
      "1\n",
      "2\n",
      "True\n",
      "7\n"
     ]
    }
   ],
   "source": [
    "#Tuple:It is like a list but it is immutable.\n",
    "a=(1,2,3,4,45)\n",
    "print(type(a))\n",
    "#Empty Tuple\n",
    "a=()\n",
    "#To create a tuple with only one value\n",
    "a=(1) #This is not the correct way as on getting its type we would get \"int\"\n",
    "print(type(a))\n",
    "#Right way to create a tuple with only one value is adding one comma after the single element .\n",
    "a=(1,)\n",
    "print(type(a))\n",
    "a2=(1,3.5,22,\"Rani\",\"Rishabh\",\"Delhi\",\"Pune\")\n",
    "print(type(a2))\n",
    "print(a2)\n",
    "#a2[0]=432 #'tuple' object does not support item assignment\n",
    "#print(a2)\n",
    "# Tuple Methods\n",
    "no=a2.count(22)\n",
    "print(no)\n",
    "no1 = a2.index(22)\n",
    "print(no1)\n",
    "print(1 in a2)\n",
    "print(len(a2))"
   ]
  },
  {
   "cell_type": "code",
   "execution_count": 2,
   "metadata": {},
   "outputs": [
    {
     "name": "stdout",
     "output_type": "stream",
     "text": [
      "[]\n",
      "['Apple', 'Banana', 'Orange', 'Pineapple', 'Pomegranate', 'Guva', 'Grapes']\n"
     ]
    }
   ],
   "source": [
    "#Write a program to store seven fruits in a list entered by the user.\n",
    "fruits=[]\n",
    "print(fruits)\n",
    "f1=input(\"Enter the value of the Fruit:\")\n",
    "fruits.append(f1)\n",
    "f2=input(\"Enter the value of the Fruit:\")\n",
    "fruits.append(f2)\n",
    "f3=input(\"Enter the value of the Fruit:\")\n",
    "fruits.append(f3)\n",
    "f4=input(\"Enter the value of the Fruit:\")\n",
    "fruits.append(f4)\n",
    "f5=input(\"Enter the value of the Fruit:\")\n",
    "fruits.append(f5)\n",
    "f6=input(\"Enter the value of the Fruit:\")\n",
    "fruits.append(f6)\n",
    "f7=input(\"Enter the value of the Fruit:\")\n",
    "fruits.append(f7)\n",
    "print(fruits)"
   ]
  },
  {
   "cell_type": "code",
   "execution_count": 5,
   "metadata": {},
   "outputs": [
    {
     "name": "stdout",
     "output_type": "stream",
     "text": [
      "[]\n",
      "[1, 2, 33, 43, 44, 44, 65]\n"
     ]
    }
   ],
   "source": [
    "# Write a program to accept marks of the 6 students and display them in a sorted manner.\n",
    "Marks=[]\n",
    "print(Marks)\n",
    "f1=int(input(\"Enter the value of the Marks:\"))\n",
    "Marks.append(f1)\n",
    "f2=int(input(\"Enter the value of the Marks:\"))\n",
    "Marks.append(f2)\n",
    "f3=int(input(\"Enter the value of the Marks:\"))\n",
    "Marks.append(f3)\n",
    "f4=int(input(\"Enter the value of the Marks:\"))\n",
    "Marks.append(f4)\n",
    "f5=int(input(\"Enter the value of the Marks:\"))\n",
    "Marks.append(f5)\n",
    "f6=int(input(\"Enter the value of the Marks:\"))\n",
    "Marks.append(f6)\n",
    "f7=int(input(\"Enter the value of the Marks:\"))\n",
    "Marks.append(f7)\n",
    "Marks.sort()\n",
    "print(Marks)"
   ]
  },
  {
   "cell_type": "code",
   "execution_count": 7,
   "metadata": {},
   "outputs": [
    {
     "ename": "TypeError",
     "evalue": "'tuple' object does not support item assignment",
     "output_type": "error",
     "traceback": [
      "\u001b[1;31m---------------------------------------------------------------------------\u001b[0m",
      "\u001b[1;31mTypeError\u001b[0m                                 Traceback (most recent call last)",
      "Cell \u001b[1;32mIn[7], line 3\u001b[0m\n\u001b[0;32m      1\u001b[0m \u001b[38;5;66;03m#Check that a type cannot be changed in the Python.\u001b[39;00m\n\u001b[0;32m      2\u001b[0m a\u001b[38;5;241m=\u001b[39m(\u001b[38;5;241m33\u001b[39m,\u001b[38;5;241m25\u001b[39m,\u001b[38;5;124m\"\u001b[39m\u001b[38;5;124mAkanksha\u001b[39m\u001b[38;5;124m\"\u001b[39m)\n\u001b[1;32m----> 3\u001b[0m \u001b[43ma\u001b[49m\u001b[43m[\u001b[49m\u001b[38;5;241;43m2\u001b[39;49m\u001b[43m]\u001b[49m\u001b[38;5;241m=\u001b[39m\u001b[38;5;124m\"\u001b[39m\u001b[38;5;124mSummi\u001b[39m\u001b[38;5;124m\"\u001b[39m\u001b[38;5;66;03m#'tuple' object does not support item assignment\u001b[39;00m\n",
      "\u001b[1;31mTypeError\u001b[0m: 'tuple' object does not support item assignment"
     ]
    }
   ],
   "source": [
    "#Check that a type cannot be changed in the Python.\n",
    "a=(33,25,\"Akanksha\")\n",
    "a[2]=\"Summi\"#'tuple' object does not support item assignment"
   ]
  },
  {
   "cell_type": "code",
   "execution_count": 8,
   "metadata": {},
   "outputs": [
    {
     "name": "stdout",
     "output_type": "stream",
     "text": [
      "152\n"
     ]
    }
   ],
   "source": [
    "#Write a program to sum a list with 4 members.\n",
    "list1=[33,22,55,42]\n",
    "print(sum(list1))"
   ]
  },
  {
   "cell_type": "code",
   "execution_count": 10,
   "metadata": {},
   "outputs": [
    {
     "name": "stdout",
     "output_type": "stream",
     "text": [
      "3\n"
     ]
    }
   ],
   "source": [
    "#Write a program to count the number of zeros in the following tuple:\n",
    "a=(7,0,8,0,0,9)\n",
    "n=a.count(0)\n",
    "print(n)"
   ]
  },
  {
   "cell_type": "code",
   "execution_count": 15,
   "metadata": {},
   "outputs": [
    {
     "name": "stdout",
     "output_type": "stream",
     "text": [
      "{'Akanksha': 100, 'Pratiksha': 90, 'Summi': 89, 'list': [4, 2, 34, 55]} <class 'dict'>\n",
      "100\n",
      "89\n"
     ]
    }
   ],
   "source": [
    "#Dictonary & Sets\n",
    "#Dictonary: Dictonary is a collection of keys value pairs.\n",
    "marks={\n",
    "    \"Akanksha\":100,\n",
    "    \"Pratiksha\":90,\n",
    "    \"Summi\":89,\n",
    "    \"list\":[4,2,34,55]\n",
    "}\n",
    "print(marks, type(marks))\n",
    "print(marks[\"Akanksha\"])\n",
    "print(marks[\"Summi\"])"
   ]
  },
  {
   "cell_type": "code",
   "execution_count": 18,
   "metadata": {},
   "outputs": [
    {
     "name": "stdout",
     "output_type": "stream",
     "text": [
      "dict_items([('Akanksha', 100), ('Pratiksha', 90), ('Summi', 89), ('list', [4, 2, 34, 55]), (1, 'Pankhuri')])\n"
     ]
    }
   ],
   "source": [
    "#PROPERTIES OF THE PYTHON DICTIONARIES\n",
    "#1)It is unordered.\n",
    "#2) It is mutable.\n",
    "#3) It is indexed.\n",
    "#4) Cannot contain duplicate keys.\n",
    "marks={\n",
    "    \"Akanksha\":100,\n",
    "    \"Pratiksha\":90,\n",
    "    \"Summi\":89,\n",
    "    \"list\":[4,2,34,55],\n",
    "    1:\"Pankhuri\"\n",
    "}\n",
    "print(marks.items())"
   ]
  },
  {
   "cell_type": "code",
   "execution_count": 30,
   "metadata": {},
   "outputs": [
    {
     "name": "stdout",
     "output_type": "stream",
     "text": [
      "dict_items([('Sakshi', 700), (456, 'Rahul'), ('Rishabh', 544), (900, 'Rohan')])\n",
      "dict_keys(['Sakshi', 456, 'Rishabh', 900])\n",
      "dict_values([700, 'Rahul', 544, 'Rohan'])\n",
      "{'Sakshi': 987, 456: 'Rahul', 'Rishabh': 544, 900: 'Rohan', 'Akanksha': 678}\n",
      "678\n",
      "678\n",
      "<class 'dict'>\n"
     ]
    }
   ],
   "source": [
    "#DICTIONARY METHODS\n",
    "#CONSIDER THE FOLLOWING DICTIONARY\n",
    "dict1={\n",
    "    \"Sakshi\": 700,\n",
    "    456:\"Rahul\",\n",
    "    \"Rishabh\":544,\n",
    "    900:\"Rohan\"\n",
    "}\n",
    "# dict1.items(): Returns a list of (Key,value)tuples.\n",
    "# dict1.keys():Returns a list containing dictionary's keys\n",
    "# dict1.update({\"friends\":}):Updates the dictionary with supplied key-value pairs.\n",
    "# dict1.get(\"name\"):Returns the value of the specified keys ( and value is returned eg. 100 is returned here)\n",
    "\n",
    "print(dict1.items())\n",
    "print(dict1.keys())\n",
    "print(dict1.values())\n",
    "dict1.update({\"Sakshi\":987,\"Akanksha\":678})\n",
    "print(dict1)\n",
    "print(dict1.get(\"Akanksha\"))#prints NONE\n",
    "print(dict1[\"Akanksha\"])#Returns an error\n",
    "d={}#Empty Dictornary\n",
    "print(type(d))"
   ]
  },
  {
   "cell_type": "code",
   "execution_count": 35,
   "metadata": {},
   "outputs": [
    {
     "name": "stdout",
     "output_type": "stream",
     "text": [
      "{33, 'Akanksha', 2, 45, 'Sakshi', 44, 333} <class 'set'>\n",
      "{90000, 33, 'Akanksha', 2, 45, 'Sakshi', 44, 333} <class 'set'>\n"
     ]
    }
   ],
   "source": [
    "#SETS IN PYTHON\n",
    "#SET: Set is a collection of non-repetitive elements.\n",
    "# s=set()#no repetition allowed\n",
    "# s.add(1)\n",
    "# s.add(2)#or set=(1,2)\n",
    "s={2,33,45,44,33,33,333,333,33,33,2,2,2,2,2,\"Akanksha\",\"Sakshi\"}\n",
    "\n",
    "print(s, type(s))\n",
    "#Empty Set = e=set()\n",
    "#e = set() #Do not use s = {} as it will create an empty dictionary\n",
    "s.add(90000)\n",
    "print(s, type(s))"
   ]
  },
  {
   "cell_type": "code",
   "execution_count": 43,
   "metadata": {},
   "outputs": [
    {
     "name": "stdout",
     "output_type": "stream",
     "text": [
      "{33, 3, 4, 5, 6, 22} <class 'set'>\n",
      "{33, 3, 4, 5, 6, 22, 877} <class 'set'>\n",
      "{33, 3, 4, 5, 6, 9, 11, 877, 22, 55, 890}\n",
      "{33, 22}\n",
      "True\n",
      "True\n"
     ]
    }
   ],
   "source": [
    "#PROPERTIES OF SETS\n",
    "# 1.Sets are unordered.=>Element's order doesn't matter.\n",
    "# 2.Sets are unindexed.=>Cannot access elements by index\n",
    "# 3.There is no way to change items in sets.\n",
    "# 4.Sets can not contain duplicate values.\n",
    "\n",
    "#OPERATIONS ON SETS\n",
    "#Consider the following set:\n",
    "s={1,8,2,3}\n",
    "# len(s):Returns 4, the length of the set\n",
    "# s.remove(8):Updates the set s and removes 8 from s.\\\n",
    "# s.pop():Removes an arbitrary elementfrom the set and return the element removed.\n",
    "#s.clear():empties the set s\n",
    "#s.union({8,11}):Returns a new set with all items from both sets.{1,8,2,3,11}.\n",
    "#s.intersection({8,11}):Return a set which contains only item in both sets {8}\n",
    "\n",
    "s1={6,33,4,22,4,3,5,6}\n",
    "s2={9,55,33,22,11,33,890}\n",
    "print(s1,type(s1))\n",
    "s1.add(877)\n",
    "print(s1,type(s1))\n",
    "print(s1.union(s2))\n",
    "print(s1.intersection(s2))\n",
    "print(s1.issuperset({6,4}))\n",
    "print({33,22}.issubset(s1))"
   ]
  },
  {
   "cell_type": "code",
   "execution_count": 1,
   "metadata": {},
   "outputs": [
    {
     "name": "stdout",
     "output_type": "stream",
     "text": [
      "Mother\n"
     ]
    }
   ],
   "source": [
    "#Write a program to create a dictionary of Hindi words with the values as their English translation. Provide user with an option to look it up!\n",
    "\n",
    "dict1={\"Madat\":\"help\",\n",
    "       \"Billi\":\"Cat\",\n",
    "       \"Maa\":\"Mother\",\n",
    "       \"Papa\":\"Father\"}\n",
    "word=input(\"Enter the word you want meaning of:\")\n",
    "print(dict1[word])\n"
   ]
  },
  {
   "cell_type": "code",
   "execution_count": 3,
   "metadata": {},
   "outputs": [
    {
     "name": "stdout",
     "output_type": "stream",
     "text": [
      "{2, 3, 4, 5}\n"
     ]
    }
   ],
   "source": [
    "#Write a program to input eight numbers from the user and display all the unique numbers(once).\n",
    "s=set()\n",
    "n = int(input(\"Enter the value of number:\"))\n",
    "s.add(int(n))\n",
    "n = int(input(\"Enter the value of number:\"))\n",
    "s.add(int(n))\n",
    "n = int(input(\"Enter the value of number:\"))\n",
    "s.add(int(n))\n",
    "n = int(input(\"Enter the value of number:\"))\n",
    "s.add(int(n))\n",
    "n = int(input(\"Enter the value of number:\"))\n",
    "s.add(int(n))\n",
    "n = int(input(\"Enter the value of number:\"))\n",
    "s.add(int(n))\n",
    "n = int(input(\"Enter the value of number:\"))\n",
    "s.add(int(n))\n",
    "n = int(input(\"Enter the value of number:\"))\n",
    "s.add(int(n))\n",
    "print(s)"
   ]
  },
  {
   "cell_type": "code",
   "execution_count": 5,
   "metadata": {},
   "outputs": [
    {
     "name": "stdout",
     "output_type": "stream",
     "text": [
      "{18, '18'}\n"
     ]
    }
   ],
   "source": [
    "#Can we have a set with 18{int} and \"18\"(str)as a value in it?\n",
    "s=set()\n",
    "s.add(18)\n",
    "s.add(\"18\")\n",
    "print(s)"
   ]
  },
  {
   "cell_type": "code",
   "execution_count": 6,
   "metadata": {},
   "outputs": [
    {
     "name": "stdout",
     "output_type": "stream",
     "text": [
      "{20, '20'}\n",
      "2\n"
     ]
    }
   ],
   "source": [
    "#What will be the length of the following set S\n",
    "s=set()\n",
    "s.add(20)\n",
    "s.add(20.0)\n",
    "s.add('20')#length of s after these operations?\n",
    "print(s)\n",
    "print(len(s))"
   ]
  },
  {
   "cell_type": "code",
   "execution_count": 7,
   "metadata": {},
   "outputs": [
    {
     "name": "stdout",
     "output_type": "stream",
     "text": [
      "<class 'dict'>\n"
     ]
    }
   ],
   "source": [
    "#S={}\n",
    "#What is the type of S?\n",
    "#This is Dictionary\n",
    "s={}\n",
    "print(type(s))"
   ]
  },
  {
   "cell_type": "code",
   "execution_count": 8,
   "metadata": {},
   "outputs": [
    {
     "name": "stdout",
     "output_type": "stream",
     "text": [
      "{'Akanksha': 'Python', 'Sakshi': 'C++', 'Summi': 'Java', 'Pratiksha': 'C'}\n"
     ]
    }
   ],
   "source": [
    "#Create an empty dictionary. Allow 4 friends to enter their favourite language as value and use key as their names. Assume that the name are unique.\n",
    "d={}\n",
    "name=input(\"Enter the name of Friends\")\n",
    "lang=input(\"Enter the Language name:\")\n",
    "d.update({name:lang})\n",
    "name=input(\"Enter the name of Friends\")\n",
    "lang=input(\"Enter the Language name:\")\n",
    "d.update({name:lang})\n",
    "name=input(\"Enter the name of Friends\")\n",
    "lang=input(\"Enter the Language name:\")\n",
    "d.update({name:lang})\n",
    "name=input(\"Enter the name of Friends\")\n",
    "lang=input(\"Enter the Language name:\")\n",
    "d.update({name:lang})\n",
    "print(d)"
   ]
  },
  {
   "cell_type": "code",
   "execution_count": null,
   "metadata": {},
   "outputs": [],
   "source": [
    "#If the names of 2 friends are same; what will happen to the program in problem 6?\n",
    "#The values entered later will be updated."
   ]
  },
  {
   "cell_type": "code",
   "execution_count": null,
   "metadata": {},
   "outputs": [],
   "source": [
    "#If languages of two friends are same; what will happen to the program in the problem 6?\n",
    "#Nothing will happen. The values can be same"
   ]
  },
  {
   "cell_type": "code",
   "execution_count": 26,
   "metadata": {},
   "outputs": [],
   "source": [
    "#Can you change the values inside a list which is contained in set S?\n",
    "# S={8,7,12,\"Akanksha\",[1,2]}\n",
    "# print(s)\n",
    "# S[4][0]=9\n",
    "# No, we can not change the value inside a list contained in a set in Python. In fact, we cannot even have a list as an element in a set because sets in python require all their elements to be immutable and hashable. Lists are mutable and hashable. So, they can not added to a set.add"
   ]
  },
  {
   "cell_type": "code",
   "execution_count": null,
   "metadata": {},
   "outputs": [
    {
     "name": "stdout",
     "output_type": "stream",
     "text": [
      "You are entering an invalid age.\n",
      "End of the Program.\n"
     ]
    }
   ],
   "source": [
    "#Conditional Expressions :If-Else Statements, Elif Statements\n",
    "#If Elif Else Ladder : If else and Elif statements are a multiway decision taken by our program due to certain conditions in our code.\n",
    "\n",
    "a=int(input(\"Enter the value of your age:\"))\n",
    "if (a>18):\n",
    "    print(\"You are above the age of consent.\")\n",
    "    print(\"Good for you\")\n",
    "elif(a<0):\n",
    "    print(\"You are entering an invalid age.\")\n",
    "elif(a==0):\n",
    "    print(\"You are entering 0 which is not a valid age.\")\n",
    "else:\n",
    "    print(\"You are below the age of consent.\")\n",
    "\n",
    "print(\"End of the Program.\")\n"
   ]
  },
  {
   "cell_type": "code",
   "execution_count": 16,
   "metadata": {},
   "outputs": [
    {
     "name": "stdout",
     "output_type": "stream",
     "text": [
      "NO\n"
     ]
    }
   ],
   "source": [
    "#If-Else and Elif Statement\n",
    "#Write a Program to print YES when the age entered bythe user is greater than or equal to 18.\n",
    "\n",
    "age=int(input(\"Enter the value of the age of the person:\"))\n",
    "if (age>18):\n",
    "    print(\"YES\")\n",
    "else:\n",
    "    print(\"NO\")"
   ]
  },
  {
   "cell_type": "code",
   "execution_count": 17,
   "metadata": {},
   "outputs": [],
   "source": [
    "#RELATIONAL OPERATORS\n",
    "#Relational Operators are used to evaluate conditions inside the if statements. Some examples of relational operators are:\n",
    "# ==:equals\n",
    "# >=:greater than/equal To\n",
    "# <=:lesser than/equal To\n",
    "\n",
    "#Logical Operators\n",
    "#In python, Logical Operators operate on conditional statements. Example:\n",
    "# and - true if both operands are true else False\n",
    "# or - true if at leastone operand is true or else False\n",
    "# not - inverts true to false & false to true\n",
    "\n",
    "#ELIF Clause: Elif in python means [else if] And if statements can be chained together with a lot of these Elif statements followed by an else statement.\n"
   ]
  },
  {
   "cell_type": "code",
   "execution_count": 27,
   "metadata": {},
   "outputs": [
    {
     "name": "stdout",
     "output_type": "stream",
     "text": [
      "[100, 200, 1000, 400]\n",
      "The largest value among these 4 numbers is : 1000\n"
     ]
    }
   ],
   "source": [
    "#Write a program to find the greatest of four numbers entered by the user.\n",
    "lst=[]\n",
    "num1=int(input(\"Enter the value of Number 1:\"))\n",
    "lst.append(num1)\n",
    "num2=int(input(\"Enter the value of Number 2:\"))\n",
    "lst.append(num2)\n",
    "num3=int(input(\"Enter the value of Number 3:\"))\n",
    "lst.append(num3)\n",
    "num4=int(input(\"Enter the value of Number 4:\"))\n",
    "lst.append(num4)\n",
    "print(lst)\n",
    "print(\"The largest value among these 4 numbers is :\", max(lst))"
   ]
  },
  {
   "cell_type": "code",
   "execution_count": 32,
   "metadata": {},
   "outputs": [
    {
     "name": "stdout",
     "output_type": "stream",
     "text": [
      "You are passed: 88.33333333333333\n"
     ]
    }
   ],
   "source": [
    "#Write a program to find out whether a student has passed or failed if it requires a total of 40% and at least 33% in each subject to pass. Assume 3 subjects and take marks as an input from the user.\n",
    "marks1=int(input(\"Enter the value of Subject 1:\"))\n",
    "marks2=int(input(\"Enter the value of Subject 2:\"))\n",
    "marks3=int(input(\"Enter the value of Subject 3:\"))\n",
    "\n",
    "total_percent=(100*(marks1+marks2+marks3)/300)\n",
    "if (total_percent>40 and marks1>=33 and marks2>=33 and marks3>=33):\n",
    "    print(\"You are passed:\", total_percent)\n",
    "else:\n",
    "    print(\"You are failed, Try again next year\", total_percent)\n",
    "    "
   ]
  },
  {
   "cell_type": "code",
   "execution_count": null,
   "metadata": {},
   "outputs": [
    {
     "name": "stdout",
     "output_type": "stream",
     "text": [
      "This comment is a spam\n"
     ]
    }
   ],
   "source": [
    "#A spam comment is defined as a text containing following keywords:\n",
    "#\"Make a lot of money\", \"buy now\", \"subscribe this\", \"click this\". Write a program to detect these spams.\n",
    "p1 = \"Make a lot of money\"\n",
    "p2 = \"buy now\"\n",
    "p3 = \"subscribe this\"\n",
    "p4 = \"click this\"\n",
    "\n",
    "message=input(\"Enter your comment: \")\n",
    "if((p1 in message) or (p2 in message) or (p3 in message) or (p4 in message)):\n",
    "    print(\"This comment is a spam\")\n",
    "else:\n",
    "    print(\"This comment is not a spam.\")"
   ]
  },
  {
   "cell_type": "code",
   "execution_count": 34,
   "metadata": {},
   "outputs": [
    {
     "name": "stdout",
     "output_type": "stream",
     "text": [
      "Your username contains less than 10 characters.\n"
     ]
    }
   ],
   "source": [
    "#Write a program to find whether a given username contains less than 10 characters or not.\n",
    "\n",
    "username=input(\"Enter the Username:\")\n",
    "if (len(username)<10):\n",
    "    print(\"Your username contains less than 10 characters.\")\n",
    "else:\n",
    "    print(\"The length of the username is more than 10 characters.\")\n"
   ]
  },
  {
   "cell_type": "code",
   "execution_count": 35,
   "metadata": {},
   "outputs": [
    {
     "name": "stdout",
     "output_type": "stream",
     "text": [
      "Your name is in the List.\n"
     ]
    }
   ],
   "source": [
    "#Write a program which finds out whether a given name is present in a list or not.\n",
    "l=[\"Akanksha\",\"Summi\",\"Pratiksha\",\"Sakshi\",\"Rehan\",\"Riya\"]\n",
    "name = input(\"Enter your name: \")\n",
    "if name in l:\n",
    "    print(\"Your name is in the List.\")\n",
    "else:\n",
    "    print(\"Your name is not in the list\")\n"
   ]
  },
  {
   "cell_type": "code",
   "execution_count": 37,
   "metadata": {},
   "outputs": [
    {
     "name": "stdout",
     "output_type": "stream",
     "text": [
      "Your grade is : Ex\n"
     ]
    }
   ],
   "source": [
    "#Write a program to calculate the grade of a student from his marks for the following scheme:\n",
    "# 90-100=> Ex\n",
    "# 80-90=> A\n",
    "# 70-80=>B\n",
    "# 60-70=>C\n",
    "# 50-60=>D\n",
    "# <50=> F\n",
    "marks = int(input(\"Enter the value of marks: \"))\n",
    "if(marks<=100 and marks>=90):\n",
    "    grade=\"Ex\"\n",
    "elif(marks<90 and marks>=80):\n",
    "    grade=\"A\"\n",
    "elif(marks<80 and marks>=70):\n",
    "    grade=\"B\"\n",
    "elif(marks<70 and marks>=60):\n",
    "    grade=\"C\"\n",
    "elif(marks<60 and marks>=50):\n",
    "    grade=\"D\"\n",
    "elif(marks<50 ):\n",
    "    grade=\"F\"\n",
    "\n",
    "print(\"Your grade is :\", grade)"
   ]
  },
  {
   "cell_type": "code",
   "execution_count": null,
   "metadata": {},
   "outputs": [
    {
     "name": "stdout",
     "output_type": "stream",
     "text": [
      "This Post is talking about Akanksha.\n"
     ]
    }
   ],
   "source": [
    "#Write a Program to find out whether a given post is talking about \"Akanksha\" or not.\n",
    "post=input(\"Enter the Post: \")\n",
    "if(\"Akanksha\".lower() in post.lower()):\n",
    "    print(\"This Post is talking about Akanksha.\")\n",
    "else:\n",
    "    print(\"This post is not talking about Akanksha\")"
   ]
  },
  {
   "cell_type": "code",
   "execution_count": 42,
   "metadata": {},
   "outputs": [
    {
     "name": "stdout",
     "output_type": "stream",
     "text": [
      "1\n",
      "2\n",
      "3\n",
      "4\n",
      "5\n",
      "6\n",
      "7\n",
      "8\n",
      "9\n",
      "10\n",
      "11\n",
      "12\n",
      "13\n",
      "14\n",
      "15\n",
      "16\n",
      "17\n",
      "18\n",
      "19\n",
      "20\n",
      "21\n",
      "22\n",
      "23\n",
      "24\n",
      "25\n",
      "26\n",
      "27\n",
      "28\n",
      "29\n",
      "30\n",
      "31\n",
      "32\n",
      "33\n",
      "34\n",
      "35\n",
      "36\n",
      "37\n",
      "38\n",
      "39\n",
      "40\n",
      "41\n",
      "42\n",
      "43\n",
      "44\n",
      "45\n",
      "46\n",
      "47\n",
      "48\n",
      "49\n",
      "50\n"
     ]
    }
   ],
   "source": [
    "#LOOPS IN PYTHON\n",
    "#Sometimes we want to repeat a set of statements in our Program.For instance: Print 1 to 1000\n",
    "#Loops make it easy for a programmer to tell the computer which set of instructions to repeat and how!\n",
    "#Types of Loops in PYTHON - WHILE LOOP, FOR LOOP\n",
    "#WHILE LOOP\n",
    "#In While Loops, the condition is checked first. If it evaluates to true, the body of the loop is executed otherwise now!\n",
    "#If the loop is entered, the process of [condition check & execution] is continued until the condition becomes False.\n",
    "#Write a program to print 1 to 50 using a while loop.\n",
    "i=1\n",
    "while(i<51):\n",
    "    print(i)\n",
    "    i+=1"
   ]
  },
  {
   "cell_type": "code",
   "execution_count": 2,
   "metadata": {},
   "outputs": [
    {
     "name": "stdout",
     "output_type": "stream",
     "text": [
      "Ram\n",
      "Sam\n",
      "Summi\n",
      "Akanksha\n",
      "Pratiksha\n",
      "Roma\n",
      "Rani\n",
      "Ram\n",
      "Sam\n",
      "Summi\n",
      "Akanksha\n",
      "Pratiksha\n",
      "Roma\n",
      "Rani\n"
     ]
    }
   ],
   "source": [
    "#Write a program to print the content of a list using while loops.clear\n",
    "lst=[\"Ram\",\"Sam\",\"Summi\",\"Akanksha\",\"Pratiksha\",\"Roma\",\"Rani\"]\n",
    "#Using the FOR Loop\n",
    "#FOR Loop: A For Loop is used to iterate through a sequence like list, tuple or string (iterables).\n",
    "\n",
    "for i in lst:\n",
    "    print(i)\n",
    "#Using the WHILE Loop\n",
    "i=0\n",
    "while(i<len(lst)):\n",
    "    print(lst[i])\n",
    "    i+=1"
   ]
  },
  {
   "cell_type": "code",
   "execution_count": 4,
   "metadata": {},
   "outputs": [
    {
     "name": "stdout",
     "output_type": "stream",
     "text": [
      "0\n",
      "4\n",
      "8\n",
      "12\n",
      "16\n",
      "20\n",
      "24\n",
      "28\n",
      "32\n",
      "36\n",
      "40\n",
      "44\n",
      "48\n",
      "52\n",
      "56\n",
      "60\n",
      "64\n",
      "68\n",
      "72\n",
      "76\n",
      "80\n",
      "84\n",
      "88\n",
      "92\n",
      "96\n"
     ]
    }
   ],
   "source": [
    "#RANGE FUNCTION IN PYTHON\n",
    "#The range() function in python is used to generate a sequence of number.\n",
    "#We can specify the start, stop and step-size as follows:\n",
    "#range(start,stop,step_size)\n",
    "for i in range(0,100,4):\n",
    "    print(i)"
   ]
  },
  {
   "cell_type": "code",
   "execution_count": 9,
   "metadata": {},
   "outputs": [
    {
     "name": "stdout",
     "output_type": "stream",
     "text": [
      "2\n",
      "4\n",
      "5\n",
      "Ram\n",
      "Riya\n",
      "Mohan\n",
      "Tuple\n",
      "4\n",
      "55\n",
      "6.4\n",
      "Rohan\n",
      "Summi\n",
      "A\n",
      "k\n",
      "a\n",
      "n\n",
      "k\n",
      "s\n",
      "h\n",
      "a\n"
     ]
    }
   ],
   "source": [
    "#For Loop with Lists\n",
    "l=[2,4,5,\"Ram\",\"Riya\",\"Mohan\"]\n",
    "for i in l:\n",
    "    print(i)\n",
    "\n",
    "#For Loop with Tuples\n",
    "t=(\"Tuple\",4,55,6.4,\"Rohan\",\"Summi\")\n",
    "for i in t:\n",
    "    print(i)\n",
    "\n",
    "#For Loop with Strings\n",
    "s=\"Akanksha\"\n",
    "for i in s:\n",
    "    print(i)"
   ]
  },
  {
   "cell_type": "code",
   "execution_count": 11,
   "metadata": {},
   "outputs": [
    {
     "name": "stdout",
     "output_type": "stream",
     "text": [
      "Akanksha\n",
      "Ram\n",
      "1\n",
      "2\n",
      "44\n",
      "2234\n",
      "Done\n"
     ]
    }
   ],
   "source": [
    "#FOR LOOP WITH ELSE\n",
    "#An optional else can be used with a for loop if the code is to be executed when the loops exhaust.count\n",
    "l=[\"Akanksha\",\"Ram\",1,2,44,2234]\n",
    "for item in l:\n",
    "    print(item)\n",
    "else:\n",
    "    print(\"Done\")#This is printed when the loop exhaust"
   ]
  },
  {
   "cell_type": "code",
   "execution_count": 14,
   "metadata": {},
   "outputs": [
    {
     "name": "stdout",
     "output_type": "stream",
     "text": [
      "0\n",
      "1\n",
      "2\n"
     ]
    }
   ],
   "source": [
    "#THE BREAK STATEMENT\n",
    "#BREAK is used to come out of the loop when encountered. It instructs the program to exit the loop now.\n",
    "for i in range(0,80):\n",
    "    \n",
    "    if i==3:\n",
    "        break #exit the loop right now.\n",
    "    print(i)"
   ]
  },
  {
   "cell_type": "code",
   "execution_count": 16,
   "metadata": {},
   "outputs": [
    {
     "name": "stdout",
     "output_type": "stream",
     "text": [
      "1\n",
      "2\n",
      "3\n",
      "4\n",
      "6\n",
      "7\n",
      "8\n",
      "9\n"
     ]
    }
   ],
   "source": [
    "#THE CONTINUE STATEMENT\n",
    "#\"continue\" is used to stop the current iteration of the loop and continues with the next one. It instructs the program to \"skip the iteration.\"\n",
    "for i in range(1,10):\n",
    "    if i == 5:\n",
    "        continue #skip the iteration.\n",
    "    print(i)"
   ]
  },
  {
   "cell_type": "code",
   "execution_count": 22,
   "metadata": {},
   "outputs": [
    {
     "name": "stdout",
     "output_type": "stream",
     "text": [
      "0\n",
      "1\n",
      "2\n",
      "3\n",
      "4\n",
      "5\n",
      "6\n",
      "7\n",
      "8\n",
      "9\n",
      "10\n",
      "11\n",
      "12\n",
      "13\n",
      "14\n",
      "15\n",
      "16\n",
      "17\n",
      "18\n",
      "19\n",
      "20\n",
      "21\n",
      "22\n",
      "23\n",
      "24\n",
      "25\n",
      "26\n",
      "27\n",
      "28\n",
      "29\n",
      "30\n",
      "31\n",
      "32\n",
      "33\n",
      "34\n",
      "35\n",
      "36\n",
      "37\n",
      "38\n",
      "39\n",
      "40\n",
      "41\n",
      "42\n",
      "43\n",
      "44\n"
     ]
    }
   ],
   "source": [
    "#PASS STATEMENT\n",
    "#PASS is a NULL statement in python.\n",
    "#It instructs to \"do nothing.\"\n",
    "l=[\"Ram\",\"Sam\",1,44,32]\n",
    "for item in l:\n",
    "    pass # without pass, the program will throw an error.\n",
    "i=0\n",
    "while(i<45):\n",
    "    print(i)\n",
    "    i += 1"
   ]
  },
  {
   "cell_type": "code",
   "execution_count": 35,
   "metadata": {},
   "outputs": [
    {
     "name": "stdout",
     "output_type": "stream",
     "text": [
      "8 x 1 = 8\n",
      "8 x 2 = 16\n",
      "8 x 3 = 24\n",
      "8 x 4 = 32\n",
      "8 x 5 = 40\n",
      "8 x 6 = 48\n",
      "8 x 7 = 56\n",
      "8 x 8 = 64\n"
     ]
    }
   ],
   "source": [
    "#1)Write a program to print multiplication table of a given number using for loop.\n",
    "n=int(input(\"Enter the value of n for which you want the Table to get printed:\"))\n",
    "for i in range(1,n+1):\n",
    "    print(f\"{n} x {i} = {n*i}\")"
   ]
  },
  {
   "cell_type": "code",
   "execution_count": 36,
   "metadata": {},
   "outputs": [
    {
     "name": "stdout",
     "output_type": "stream",
     "text": [
      "Hello Soham\n",
      "Hello Sachin\n"
     ]
    }
   ],
   "source": [
    "#2)Write a program to greet all the person names stored in a list \"l\" and which starts with S.\n",
    "#l=[\"Harry\",\"Soham\",\"Sachin\",\"Rahul\"]\n",
    "l=[\"Harry\",\"Soham\",\"Sachin\",\"Rahul\"]\n",
    "for name in l:\n",
    "    if(name.startswith(\"S\")):\n",
    "        print(f\"Hello {name}\")\n"
   ]
  },
  {
   "cell_type": "code",
   "execution_count": 41,
   "metadata": {},
   "outputs": [
    {
     "name": "stdout",
     "output_type": "stream",
     "text": [
      "9 x 1 = 9\n",
      "9 x 2 = 18\n",
      "9 x 3 = 27\n",
      "9 x 4 = 36\n",
      "9 x 5 = 45\n",
      "9 x 6 = 54\n",
      "9 x 7 = 63\n",
      "9 x 8 = 72\n",
      "9 x 9 = 81\n",
      "9 x 10 = 90\n"
     ]
    }
   ],
   "source": [
    "#3)Attempt problem 1 using the while loop.\n",
    "n=int(input(\"Enter the value of number for which you want the Table to be printed:\"))\n",
    "i=1\n",
    "while(i<(n+2)):\n",
    "    \n",
    "    print(f\"{n} x {i} = {n*i}\")\n",
    "    i+=1"
   ]
  },
  {
   "cell_type": "code",
   "execution_count": null,
   "metadata": {},
   "outputs": [
    {
     "name": "stdout",
     "output_type": "stream",
     "text": [
      "The given number is not Prime Number.\n"
     ]
    }
   ],
   "source": [
    "#4)Write a program to find whether a given number is prime or not.\n",
    "\n",
    "n=int(input(\"Enter the value of number for which you want to check it is Prime or not?:\"))\n",
    "for i in range(2,n):\n",
    "    if (n%i == 0):\n",
    "        print(\"The given number is not Prime Number.\")\n",
    "        break\n",
    "else:\n",
    "    print(\"The given number is a Prime Number.\")"
   ]
  },
  {
   "cell_type": "code",
   "execution_count": null,
   "metadata": {},
   "outputs": [
    {
     "name": "stdout",
     "output_type": "stream",
     "text": [
      "36\n"
     ]
    }
   ],
   "source": [
    "#5)Write a program to find the sum of first n natural numbers using while loop.\n",
    "n=int(input(\"Enter the value of number upto which you want the sum:\"))\n",
    "i=0\n",
    "sum=0\n",
    "while (i<=n):\n",
    "    sum += i\n",
    "    i += 1\n",
    "print(sum)"
   ]
  },
  {
   "cell_type": "code",
   "execution_count": 47,
   "metadata": {},
   "outputs": [
    {
     "name": "stdout",
     "output_type": "stream",
     "text": [
      "The factorial of 5 is 120\n"
     ]
    }
   ],
   "source": [
    "#Write a Program to calculate the factorial of a given number using for loop.\n",
    "n=int(input(\"Enter the value of number for which you wnat the factorial:\"))\n",
    "product=1\n",
    "for i in range(1, n+1):\n",
    "    product = product * i\n",
    "print(f\"The factorial of {n} is {product}\")"
   ]
  },
  {
   "cell_type": "code",
   "execution_count": 49,
   "metadata": {},
   "outputs": [
    {
     "name": "stdout",
     "output_type": "stream",
     "text": [
      "     *\n",
      "    ***\n",
      "   *****\n",
      "  *******\n",
      " *********\n",
      "***********\n"
     ]
    }
   ],
   "source": [
    "#7)Write a program to print the following star pattern:\n",
    "#Middle Triangle.\n",
    "#   *\n",
    "#  ***\n",
    "# ***** for n = 3\n",
    "n=int(input(\"Enter the value of n:\"))\n",
    "for i in range(1, n+1):\n",
    "    print(\" \"* (n-i), end=\"\")\n",
    "    print(\"*\"* (2*i-1), end=\"\")\n",
    "    print(\"\")\n"
   ]
  },
  {
   "cell_type": "code",
   "execution_count": null,
   "metadata": {},
   "outputs": [
    {
     "ename": "SyntaxError",
     "evalue": "invalid syntax (2073902695.py, line 2)",
     "output_type": "error",
     "traceback": [
      "\u001b[1;36m  Cell \u001b[1;32mIn[30], line 2\u001b[1;36m\u001b[0m\n\u001b[1;33m    *\u001b[0m\n\u001b[1;37m     ^\u001b[0m\n\u001b[1;31mSyntaxError\u001b[0m\u001b[1;31m:\u001b[0m invalid syntax\n"
     ]
    }
   ],
   "source": [
    "#8)Write a program to print the following star pattern.\n",
    "# *\n",
    "# **\n",
    "# *** for n = 3"
   ]
  },
  {
   "cell_type": "code",
   "execution_count": null,
   "metadata": {},
   "outputs": [
    {
     "ename": "SyntaxError",
     "evalue": "invalid syntax (2723087598.py, line 2)",
     "output_type": "error",
     "traceback": [
      "\u001b[1;36m  Cell \u001b[1;32mIn[31], line 2\u001b[1;36m\u001b[0m\n\u001b[1;33m    ***\u001b[0m\n\u001b[1;37m    ^\u001b[0m\n\u001b[1;31mSyntaxError\u001b[0m\u001b[1;31m:\u001b[0m invalid syntax\n"
     ]
    }
   ],
   "source": [
    "#9)Write a program to print the following star pattern.\n",
    "# ***\n",
    "# * *\n",
    "# *** for n = 3"
   ]
  },
  {
   "cell_type": "code",
   "execution_count": 32,
   "metadata": {},
   "outputs": [],
   "source": [
    "#10)Write a program to print the multiplication table of n using for loops in reversed order."
   ]
  },
  {
   "cell_type": "code",
   "execution_count": null,
   "metadata": {},
   "outputs": [],
   "source": []
  }
 ],
 "metadata": {
  "kernelspec": {
   "display_name": "Python 3",
   "language": "python",
   "name": "python3"
  },
  "language_info": {
   "codemirror_mode": {
    "name": "ipython",
    "version": 3
   },
   "file_extension": ".py",
   "mimetype": "text/x-python",
   "name": "python",
   "nbconvert_exporter": "python",
   "pygments_lexer": "ipython3",
   "version": "3.13.0"
  }
 },
 "nbformat": 4,
 "nbformat_minor": 2
}
