{
 "cells": [
  {
   "cell_type": "markdown",
   "metadata": {},
   "source": [
    "OBJECT ORIENTED PROGRAMMING\n",
    "\n",
    "There are mainly two popular approaches in programming for solving a problem:\n",
    "FUNCTIONAL APPROACH\n",
    "OBJECT-ORIENTED PROGRAMMING APPROACH.\n",
    "Solving a problem by creating object is one of the most popular approaches in programming. This is called object-oriented programming.\n",
    "\n",
    "This concept focuses on using reusable code (DRY Principle).\n",
    "DO NOT REPEAT YOURSELF PRINCIPLE\n",
    "\n",
    "CLASS\n",
    "\n",
    "A class is a blueprint for creating object.\n",
    "\n",
    "Combines info to create a valid application => Blank Form => Filled by a Student => Application of the Student \n",
    "\n",
    "Contains info to create a valid object => Class => Object instantiation => Object\n",
    "\n",
    "OBJECT\n",
    "\n",
    "An object is an instantiation of a class. When class is defined, a template (info) is defined. Memory is allocated only after object instantiation.\n",
    "Objects of a given class can invoke the methods available to it without revealing the implementation detailed to the user. - Abstraction & Encapsulation\n",
    "\n",
    "MODELLING A PROBLEM IN OOPS\n",
    "\n",
    "We identify the following in our problem.\n",
    "\n",
    "Noun => Class => Employee\n",
    "Adjective => Attributes => name, age, salary\n",
    "Verbs => Methods => getSalary(), increment()\n",
    "\n",
    "CLASS ATTRIBUTES\n",
    "\n",
    "An attribut that belongs to the class rather than a particular object.\n"
   ]
  },
  {
   "cell_type": "code",
   "execution_count": 2,
   "metadata": {},
   "outputs": [
    {
     "name": "stdout",
     "output_type": "stream",
     "text": [
      "Akanksha Python\n"
     ]
    }
   ],
   "source": [
    "class Employee:\n",
    "    name=\"Akanksha\"\n",
    "    language=\"Python\"\n",
    "    salary=4400000\n",
    "\n",
    "akanksha = Employee()\n",
    "print(akanksha.name, akanksha.language)"
   ]
  },
  {
   "cell_type": "markdown",
   "metadata": {},
   "source": [
    "CLASS ATTRIBUTES\n",
    "\n",
    "An attribute that belongs to the class rather than a particular object."
   ]
  },
  {
   "cell_type": "code",
   "execution_count": 6,
   "metadata": {},
   "outputs": [
    {
     "name": "stdout",
     "output_type": "stream",
     "text": [
      "130000 Artificial Intelligence & Machine Learning.\n",
      "Artificial Intelligence & Machine Learning. 130000\n",
      "Google\n"
     ]
    }
   ],
   "source": [
    "class Employee:\n",
    "    TechnologyStack=\"Artificial Intelligence & Machine Learning.\"\n",
    "    Salary = 130000\n",
    "\n",
    "riya = Employee()\n",
    "print(riya.Salary, riya.TechnologyStack)\n",
    "\n",
    "ram = Employee()\n",
    "print(ram.TechnologyStack, ram.Salary)\n",
    "\n",
    "class Employee1():\n",
    "    company = \"Google\" #Specification to Each Class\n",
    "\n",
    "akanksha = Employee1() #Object Instatiation\n",
    "akanksha.company\n",
    "Employee.company = \"YouTube\" #Changing the Class Attribute\n",
    "print(akanksha.company)"
   ]
  },
  {
   "cell_type": "markdown",
   "metadata": {},
   "source": [
    "INSTANCE ATTRIBUTES"
   ]
  },
  {
   "cell_type": "code",
   "execution_count": 8,
   "metadata": {},
   "outputs": [
    {
     "name": "stdout",
     "output_type": "stream",
     "text": [
      "akanksha Java 5600000 Google\n",
      "Google Ram Chandra 5600000 Java\n"
     ]
    }
   ],
   "source": [
    "#INSTANCE ATTRIBUTES\n",
    "\n",
    "#An attribute that belongs to the Instance (object). Assuming the class from the previous example:\n",
    "class Employee:\n",
    "    language = \"Java\" #This is a Class Attribute\n",
    "    company = \"Google\"#This is a Class Attribute\n",
    "    salary = 5600000  #This is a Class Attribute\n",
    "\n",
    "akanksha = Employee()\n",
    "akanksha.name=\"akanksha\" #This is an Object/Instance Attribute.\n",
    "print(akanksha.name, akanksha.language, akanksha.salary, akanksha.company)\n",
    "\n",
    "ram = Employee()\n",
    "ram.name = \"Ram Chandra\"\n",
    "print(ram.company, ram.name,ram.salary, ram.language)\n",
    "#Here \"name\" is object/instance attributes and \"company\", \"salary\" and \"language\" are class attributes as they directly belongs to the class.\n",
    "#NOTE : Instance attributes, take prefrence over class attributes during assignment & retrieval.\n",
    "\n",
    "#When looking up for akanksha.attribut it checks for the following:\n",
    "#1) Is attributes present in object?\n",
    "#2) Is attributes present in the class?"
   ]
  },
  {
   "cell_type": "markdown",
   "metadata": {},
   "source": [
    "INSTANCE ATTRIBUTES VS CLASS ATTRIBUTES"
   ]
  },
  {
   "cell_type": "code",
   "execution_count": 10,
   "metadata": {},
   "outputs": [
    {
     "name": "stdout",
     "output_type": "stream",
     "text": [
      "8900000 JavaScript\n"
     ]
    }
   ],
   "source": [
    "#INSTANCE ATTRIBUTES VS CLASS ATTRIBUTES\n",
    "#Instance Attributes, take preference over the Class Attributes during the assignment & retrieval.\n",
    "\n",
    "#When looking up for the akanksha.language it checks for the following:\n",
    "#1)Is attributes present in object/instance?\n",
    "#2)Is attributes present in class?\n",
    "\n",
    "class Employee():\n",
    "    language = \"Python\" #This is a Class attribute.\n",
    "    salary = 8900000\n",
    "\n",
    "akanksha = Employee()\n",
    "akanksha.language = \"JavaScript\" #This is an instance attribute\n",
    "print(akanksha.salary, akanksha.language)"
   ]
  },
  {
   "cell_type": "markdown",
   "metadata": {},
   "source": [
    "SELF PARAMETER\n",
    "self refers to the instance of the class. It is automatically passed with a function call from an object."
   ]
  },
  {
   "cell_type": "code",
   "execution_count": null,
   "metadata": {},
   "outputs": [
    {
     "name": "stdout",
     "output_type": "stream",
     "text": [
      "The Company is Google. The language is JavaScript. And, the Salary is 7800000\n",
      "The Company is Google. The language is JavaScript. And, the Salary is 7800000\n",
      "Good Morning\n"
     ]
    }
   ],
   "source": [
    "#SELF PARAMETER\n",
    "#akanksha.getSalary() # here self is akanksha\n",
    "#equivalent to Employee.getSalary(akanksha)\n",
    "#The function getSalary() is defined as:\n",
    "\n",
    "class Employee():\n",
    "    company = \"Google\" #This is Class Attribute.\n",
    "    language = \"Java\"\n",
    "    salary = 7800000\n",
    "    def getInfo(self):\n",
    "        print(f\"The Company is {self.company}. The language is {self.language}. And, the Salary is {self.salary}\")\n",
    "    @staticmethod\n",
    "    def greet():\n",
    "        print(\"Good Morning\")\n",
    "akanksha = Employee()\n",
    "akanksha.language = \"JavaScript\" #This is an instance attribute.capitalize\n",
    "akanksha.name=\"Akanksha\"\n",
    "akanksha.getInfo() # Another way to write this is: Employee.getInfo(akanksha)\n",
    "Employee.getInfo(akanksha)\n",
    "akanksha.greet()\n",
    "\n",
    "class Employee():\n",
    "    company=\"CISCO\"\n",
    "    def getSalary(self):\n",
    "        print(\"the salary isnot there.\")"
   ]
  },
  {
   "cell_type": "markdown",
   "metadata": {},
   "source": [
    "STATIC METHOD\n",
    "\n",
    "Sometimes we need a function that does not use the self-parameter. We can define a static method like this:"
   ]
  },
  {
   "cell_type": "code",
   "execution_count": 21,
   "metadata": {},
   "outputs": [
    {
     "name": "stdout",
     "output_type": "stream",
     "text": [
      "Hello Akanksha\n"
     ]
    }
   ],
   "source": [
    "#static method\n",
    "#decorator to mark greet as a static method\n",
    "@staticmethod\n",
    "def greet():\n",
    "    print(\"Hello Akanksha\")\n",
    "\n",
    "greet()"
   ]
  },
  {
   "cell_type": "markdown",
   "metadata": {},
   "source": [
    "__INIT__() CONSTRUCTOR\n",
    "\n",
    "__init__() is a special method which is first run as soon as the objects created.\n",
    "__init__() method is also known as constructor.\n",
    "\n",
    "It takes self-argument and can also take further arguments."
   ]
  },
  {
   "cell_type": "code",
   "execution_count": 23,
   "metadata": {},
   "outputs": [],
   "source": [
    "class Employee():\n",
    "    def __init__(self, name):\n",
    "        self.name=name\n",
    "    def getSalary(self):\n",
    "        pass\n",
    "akanksha = Employee(\"Akanksha\")"
   ]
  },
  {
   "cell_type": "code",
   "execution_count": 27,
   "metadata": {},
   "outputs": [
    {
     "name": "stdout",
     "output_type": "stream",
     "text": [
      "I am creating an object\n",
      "Akanksha 7890000\n",
      "I am creating an object\n"
     ]
    }
   ],
   "source": [
    "#__init__() Constructor\n",
    "class Employee:\n",
    "    language = \"Python\" #This is a class attribute\n",
    "    salary = 7890000\n",
    "\n",
    "    def __init__(self):#dunder method in python which is automatically called\n",
    "        print(\"I am creating an object\")\n",
    "    \n",
    "    def getInfo(self):\n",
    "        print(f\"The language is {self.language}. The Salary is {self.salary}\")\n",
    "\n",
    "    @staticmethod\n",
    "    def greet():\n",
    "        print(\"Good Morning\")\n",
    "\n",
    "akanksha = Employee()\n",
    "akanksha.name = \"Akanksha\"\n",
    "print(akanksha.name, akanksha.salary)\n",
    "\n",
    "rohan = Employee()"
   ]
  },
  {
   "cell_type": "code",
   "execution_count": 31,
   "metadata": {},
   "outputs": [
    {
     "name": "stdout",
     "output_type": "stream",
     "text": [
      "I am creating an object\n",
      "Akanksha 1230000 JavaScript\n"
     ]
    }
   ],
   "source": [
    "#__init__() Constructor\n",
    "class Employee:\n",
    "    language = \"Python\" #This is a class attribute\n",
    "    salary = 7890000\n",
    "\n",
    "    def __init__(self, name, salary, language):#dunder method in python which is automatically called\n",
    "        self.name = name\n",
    "        self.salary = salary\n",
    "        self.language = language\n",
    "        print(\"I am creating an object\")\n",
    "    \n",
    "    def getInfo(self):\n",
    "        print(f\"The language is {self.language}. The Salary is {self.salary}\")\n",
    "\n",
    "    @staticmethod\n",
    "    def greet():\n",
    "        print(\"Good Morning\")\n",
    "\n",
    "akanksha = Employee(\"Akanksha\", 1230000, \"JavaScript\")\n",
    "#akanksha.name = \"Akanksha\"\n",
    "print(akanksha.name, akanksha.salary, akanksha.language)\n",
    "\n",
    "#rohan = Employee()"
   ]
  },
  {
   "cell_type": "code",
   "execution_count": 39,
   "metadata": {},
   "outputs": [
    {
     "name": "stdout",
     "output_type": "stream",
     "text": [
      "Akanksha 1300000 846001 Microsoft\n",
      "Sakshi 1980000 846001 Microsoft\n"
     ]
    }
   ],
   "source": [
    "#Que1) Create a Class \"Programmer\" for storing information of few programmers working in Microsoft.\n",
    "class Programmer:\n",
    "    company = \"Microsoft\"\n",
    "    def __init__(self, name, salary, pin):\n",
    "        self.name =name\n",
    "        self.salary = salary\n",
    "        self.pin = pin\n",
    "p=Programmer(\"Akanksha\", 1300000, 846001)\n",
    "print(p.name, p.salary, p.pin, p.company)\n",
    "s=Programmer(\"Sakshi\", 1980000, 846001)\n",
    "print(s.name, s.salary, s.pin, s.company)\n",
    "\n",
    "        "
   ]
  },
  {
   "cell_type": "code",
   "execution_count": 3,
   "metadata": {},
   "outputs": [
    {
     "name": "stdout",
     "output_type": "stream",
     "text": [
      "The square is 16\n",
      "The cube is 64\n",
      "The squareroot is 2.0\n"
     ]
    }
   ],
   "source": [
    "#Q2) Write a class \"calculator\" capable of finding squrare, cube and square root of a number.\n",
    "class Calculator:\n",
    "    def __init__(self,n):\n",
    "        self.n=n\n",
    "\n",
    "    def square(self):\n",
    "        print(f\"The square is {self.n*self.n}\")\n",
    "\n",
    "    def cube(self):\n",
    "        print(f\"The cube is {self.n*self.n*self.n}\")\n",
    "\n",
    "    def squareroot(self):\n",
    "        print(f\"The squareroot is {self.n**1/2}\")\n",
    "\n",
    "a = Calculator(4)\n",
    "a.square()\n",
    "a.cube()\n",
    "a.squareroot()"
   ]
  },
  {
   "cell_type": "code",
   "execution_count": null,
   "metadata": {},
   "outputs": [
    {
     "name": "stdout",
     "output_type": "stream",
     "text": [
      "4\n",
      "0\n",
      "4\n"
     ]
    }
   ],
   "source": [
    "#Que3) Create a class with a class attribute a; create an object from it and set 'a' directly using object.a=0. Does this change the class attribute?\n",
    "#No, the class attribut did not changed but the new instance Attribute is created.\n",
    "class Demo:\n",
    "    a =4\n",
    "o = Demo()\n",
    "print(o.a)#Prints the class attribute because the instance attribute is not present.\n",
    "o.a=0 #instance attribute is set\n",
    "print(o.a)#Prints the instance attribute because the instance attribute is present.\n",
    "print(Demo.a)#Prints the Class attribute."
   ]
  },
  {
   "cell_type": "code",
   "execution_count": 6,
   "metadata": {},
   "outputs": [
    {
     "name": "stdout",
     "output_type": "stream",
     "text": [
      "The square is 16\n",
      "The cube is 64\n",
      "Hello, Machine Learning Technology\n",
      "The squareroot is 2.0\n"
     ]
    }
   ],
   "source": [
    "#Que4) Add a static method in problem 2, to greet the user with hello.\n",
    "class Calculator:\n",
    "    def __init__(self,n):\n",
    "        self.n=n\n",
    "\n",
    "    def square(self):\n",
    "        print(f\"The square is {self.n*self.n}\")\n",
    "\n",
    "    def cube(self):\n",
    "        print(f\"The cube is {self.n*self.n*self.n}\")\n",
    "\n",
    "    def squareroot(self):\n",
    "        print(f\"The squareroot is {self.n**1/2}\")\n",
    "\n",
    "    @staticmethod\n",
    "    def hello():\n",
    "        print(\"Hello, Machine Learning Technology\")\n",
    "\n",
    "a = Calculator(4)\n",
    "a.square()\n",
    "a.cube()\n",
    "a.hello()\n",
    "a.squareroot()\n"
   ]
  },
  {
   "cell_type": "code",
   "execution_count": 10,
   "metadata": {},
   "outputs": [
    {
     "name": "stdout",
     "output_type": "stream",
     "text": [
      "Ticket is booked in train no: 12999 from Darbhanga to Delhi\n",
      "Train with train no: 12999 is running successfully on time \n",
      "Ticket fare in train no: 12999 from Darbhana to Delhi is Rs.6808\n"
     ]
    }
   ],
   "source": [
    "#Que5) Write a class Train which has methods to bok a ticket, get status of (no of seats) and get fare information of train running under Indian Railways.\n",
    "from random import randint\n",
    "\n",
    "class Train:\n",
    "    def __init__(self, trainNo):\n",
    "        self.trainNo = trainNo\n",
    "\n",
    "    def book(self, fro, to):\n",
    "        print(f\"Ticket is booked in train no: {self.trainNo} from {fro} to {to}\")\n",
    "    def getStatus(self):\n",
    "        print(f\"Train with train no: {self.trainNo} is running successfully on time \")\n",
    "    def getFare(self, fro, to):\n",
    "        print(f\"Ticket fare in train no: {self.trainNo} from {fro} to {to} is Rs.{randint(2222,8888)}\")\n",
    "t=Train(12999)\n",
    "t.book(\"Darbhanga\",\"Delhi\")\n",
    "t.getStatus()\n",
    "t.getFare(\"Darbhana\",\"Delhi\")"
   ]
  },
  {
   "cell_type": "code",
   "execution_count": 11,
   "metadata": {},
   "outputs": [
    {
     "name": "stdout",
     "output_type": "stream",
     "text": [
      "Ticket is booked in train no: 12999 from Darbhanga to Delhi\n",
      "Train with train no: 12999 is running successfully on time \n",
      "Ticket fare in train no: 12999 from Darbhana to Delhi is Rs.2809\n"
     ]
    }
   ],
   "source": [
    "#Que6) Can you change the self-parameter inside a class to something else (say \"akanksha\"). Try changing self to \"slf\" or \"akanksha\" and see the effects.\n",
    "\n",
    "from random import randint\n",
    "\n",
    "class Train:\n",
    "    def __init__(sel, trainNo):\n",
    "        sel.trainNo = trainNo\n",
    "\n",
    "    def book(sel, fro, to):\n",
    "        print(f\"Ticket is booked in train no: {sel.trainNo} from {fro} to {to}\")\n",
    "    def getStatus(sel):\n",
    "        print(f\"Train with train no: {sel.trainNo} is running successfully on time \")\n",
    "    def getFare(sel, fro, to):\n",
    "        print(f\"Ticket fare in train no: {sel.trainNo} from {fro} to {to} is Rs.{randint(2222,8888)}\")\n",
    "t=Train(12999)\n",
    "t.book(\"Darbhanga\",\"Delhi\")\n",
    "t.getStatus()\n",
    "t.getFare(\"Darbhana\",\"Delhi\")"
   ]
  },
  {
   "cell_type": "markdown",
   "metadata": {},
   "source": [
    "INHERITANCE AND MORE OOPS CONCEPTS\n",
    "\n",
    "Inheritance is a way of creating a new class from an existing class.\n",
    "class Employee: #Base Class\n",
    "    #Code\n",
    "class Programmer(Employee): #Derived or Child Class\n",
    "    #Code\n",
    "We can use the method and attributes of 'Employee' in 'Programmer' object.\n",
    "Also, we can overwrite or add new attributes and methods in 'Programmer' class.\n",
    "\n",
    "TYPES OF INHERITANCE\n",
    "\n",
    "SINGLE INHERITANCE\n",
    "MULTIPLE INHERITANCE\n",
    "MULTILEVEL INHERITANCE\n",
    "\n",
    "SINGLE INHERITANCE\n",
    "Single Inheritance occurs when child class inherits only a single parent class.\n",
    "\n",
    "Base => Derived\n",
    "\n",
    "MULTIPLE INHERITANCE\n",
    "\n",
    "Multiple Inheritance occurs when the child class inherits from more than one parent classes.\n",
    "\n",
    "PARENT 1 + PARENT 2 => CHILD\n",
    "\n",
    "MULTILEVEL INHERITANCE\n",
    "\n",
    "When a child class becomes a parent for the another child class.\n",
    "\n",
    "PARENT => CHILD1 => CHILD2\n",
    "\n",
    "SUPER() METHOD\n",
    "\n",
    "Super() method is used to access the methods of a super class in the derived class.\n",
    "\n"
   ]
  },
  {
   "cell_type": "code",
   "execution_count": 15,
   "metadata": {},
   "outputs": [
    {
     "name": "stdout",
     "output_type": "stream",
     "text": [
      "HCL Technologies Google\n"
     ]
    }
   ],
   "source": [
    "class Employee:\n",
    "    company=\"HCL Technologies\"\n",
    "    def show(self):\n",
    "        print(f\"The name is {self.name} and the salary is {self.salary}\")\n",
    "\n",
    "# class Programmer:\n",
    "#     company=\"Samsung\"\n",
    "#     def show(self):\n",
    "#         print(f\"The name is {self.name} and the salary is {self.salary}\")\n",
    "\n",
    "#     def showLanguage(self):\n",
    "#         print(f\"The name is {self.name} and he is good with {self.language}\")\n",
    "\n",
    "class Programmer(Employee):\n",
    "    company = \"Google\"\n",
    "    def showLanguage(self):\n",
    "        print(f\"The name is {self.name} and he is good in the {self.language}\")\n",
    "a=Employee()\n",
    "b=Programmer()\n",
    "print(a.company, b.company)\n"
   ]
  },
  {
   "cell_type": "code",
   "execution_count": 23,
   "metadata": {},
   "outputs": [
    {
     "name": "stdout",
     "output_type": "stream",
     "text": [
      "HCL Technologies Google\n",
      "The name is Default Name and the company is Google\n",
      "The name is Google and he is good in the Python\n",
      "Out of all the languages here is your language: Python\n"
     ]
    }
   ],
   "source": [
    "#MULTIPLE INHERITANCE\n",
    "\n",
    "class Employee:\n",
    "    company=\"HCL Technologies\"\n",
    "    name = \"Default Name\"\n",
    "    def show(self):\n",
    "        print(f\"The name is {self.name} and the company is {self.company}\")\n",
    "\n",
    "class Coder:\n",
    "    language = \"Python\"\n",
    "    def printLanguages(self):\n",
    "        print(f\"Out of all the languages here is your language: {self.language}\")\n",
    "\n",
    "class Programmer(Employee, Coder):\n",
    "    company = \"Google\"\n",
    "    def showLanguage(self):\n",
    "        print(f\"The name is {self.company} and he is good in the {self.language}\")\n",
    "a=Employee()\n",
    "b=Programmer()\n",
    "print(a.company, b.company)\n",
    "b.show()\n",
    "b.showLanguage()\n",
    "b.printLanguages()"
   ]
  },
  {
   "cell_type": "code",
   "execution_count": 29,
   "metadata": {},
   "outputs": [
    {
     "name": "stdout",
     "output_type": "stream",
     "text": [
      "1\n",
      "1 2\n",
      "1 2 3\n"
     ]
    }
   ],
   "source": [
    "#MULTILEVEL INHERITANCE\n",
    "\n",
    "class Employee:\n",
    "    a=1\n",
    "\n",
    "class Programmer(Employee):\n",
    "    b=2\n",
    "\n",
    "class Manager(Programmer):\n",
    "    c=3\n",
    "\n",
    "o = Employee()\n",
    "print(o.a) # Prints the a attributes\n",
    "#print(o.b) # Shows an error as there is no b attribute in Employee Class\n",
    "o= Programmer()\n",
    "print(o.a, o.b)\n",
    "o = Manager()\n",
    "print(o.a, o.b,o.c)"
   ]
  },
  {
   "cell_type": "markdown",
   "metadata": {},
   "source": [
    "SUPER() METHOD SUPER()\n",
    "super().__init__()\n",
    "__init__() calls constructor f the base class."
   ]
  },
  {
   "cell_type": "code",
   "execution_count": null,
   "metadata": {},
   "outputs": [
    {
     "name": "stdout",
     "output_type": "stream",
     "text": [
      "Constructor of the Programmer\n",
      "Constructor of the Manager\n",
      "1 2 3\n"
     ]
    }
   ],
   "source": [
    "#SUPER() METHOD\n",
    "\n",
    "class Employee:\n",
    "    def __init__(self):\n",
    "        print(\"Constructor of the Employee\")\n",
    "    a=1\n",
    "\n",
    "class Programmer(Employee):\n",
    "    def __init__(self):\n",
    "        print(\"Constructor of the Programmer\")\n",
    "    b=2\n",
    "\n",
    "class Manager(Programmer):\n",
    "    def __init__(self):\n",
    "        super().__init__()\n",
    "        print(\"Constructor of the Manager\")\n",
    "    c=3\n",
    "\n",
    "o = Employee()\n",
    "print(o.a)\n",
    "o = Programmer()\n",
    "print(o.a,o.b)\n",
    "o = Manager()\n",
    "print(o.a, o.b, o.c)\n",
    "#=====================================================\n",
    "# print(o.a) # Prints the a attributes\n",
    "# #print(o.b) # Shows an error as there is no b attribute in Employee Class\n",
    "# o= Programmer()\n",
    "# print(o.a, o.b)\n",
    "# o = Manager()\n",
    "# print(o.a, o.b,o.c)"
   ]
  },
  {
   "cell_type": "markdown",
   "metadata": {},
   "source": [
    "CLASS METHOD\n",
    "\n",
    "A Class Method is a method which is bound to the class and not the object of the class.\n",
    "@classmethod decorator is used to create a class method.\n",
    "\n",
    "SYNTAX\n",
    "@classmethod\n",
    "    def(cls,p1,p2):\n",
    "\n",
    "@PROPERTY DECORATORS\n",
    "\n",
    "class Emplyee:\n",
    "    @property"
   ]
  },
  {
   "cell_type": "code",
   "execution_count": null,
   "metadata": {},
   "outputs": [],
   "source": []
  }
 ],
 "metadata": {
  "kernelspec": {
   "display_name": "Python 3",
   "language": "python",
   "name": "python3"
  },
  "language_info": {
   "codemirror_mode": {
    "name": "ipython",
    "version": 3
   },
   "file_extension": ".py",
   "mimetype": "text/x-python",
   "name": "python",
   "nbconvert_exporter": "python",
   "pygments_lexer": "ipython3",
   "version": "3.13.0"
  }
 },
 "nbformat": 4,
 "nbformat_minor": 2
}
