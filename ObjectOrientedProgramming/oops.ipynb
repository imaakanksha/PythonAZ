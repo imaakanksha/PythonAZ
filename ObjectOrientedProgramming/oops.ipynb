{
 "cells": [
  {
   "cell_type": "markdown",
   "metadata": {},
   "source": [
    "OBJECT ORIENTED PROGRAMMING\n",
    "\n",
    "There are mainly two popular approaches in programming for solving a problem:\n",
    "FUNCTIONAL APPROACH\n",
    "OBJECT-ORIENTED PROGRAMMING APPROACH.\n",
    "Solving a problem by creating object is one of the most popular approaches in programming. This is called object-oriented programming.\n",
    "\n",
    "This concept focuses on using reusable code (DRY Principle).\n",
    "DO NOT REPEAT YOURSELF PRINCIPLE\n",
    "\n",
    "CLASS\n",
    "\n",
    "A class is a blueprint for creating object.\n",
    "\n",
    "Combines info to create a valid application => Blank Form => Filled by a Student => Application of the Student \n",
    "\n",
    "Contains info to create a valid object => Class => Object instantiation => Object\n",
    "\n",
    "OBJECT\n",
    "\n",
    "An object is an instantiation of a class. When class is defined, a template (info) is defined. Memory is allocated only after object instantiation.\n",
    "Objects of a given class can invoke the methods available to it without revealing the implementation detailed to the user. - Abstraction & Encapsulation\n",
    "\n",
    "MODELLING A PROBLEM IN OOPS\n",
    "\n",
    "We identify the following in our problem.\n",
    "\n",
    "Noun => Class => Employee\n",
    "Adjective => Attributes => name, age, salary\n",
    "Verbs => Methods => getSalary(), increment()\n",
    "\n",
    "CLASS ATTRIBUTES\n",
    "\n",
    "An attribut that belongs to the class rather than a particular object.\n"
   ]
  },
  {
   "cell_type": "code",
   "execution_count": 1,
   "metadata": {},
   "outputs": [
    {
     "name": "stdout",
     "output_type": "stream",
     "text": [
      "Akanksha Python\n"
     ]
    }
   ],
   "source": [
    "class Employee:\n",
    "    name=\"Akanksha\"\n",
    "    language=\"Python\"\n",
    "    salary=4400000\n",
    "\n",
    "akanksha = Employee()\n",
    "print(akanksha.name, akanksha.language)"
   ]
  }
 ],
 "metadata": {
  "kernelspec": {
   "display_name": "Python 3",
   "language": "python",
   "name": "python3"
  },
  "language_info": {
   "codemirror_mode": {
    "name": "ipython",
    "version": 3
   },
   "file_extension": ".py",
   "mimetype": "text/x-python",
   "name": "python",
   "nbconvert_exporter": "python",
   "pygments_lexer": "ipython3",
   "version": "3.13.0"
  }
 },
 "nbformat": 4,
 "nbformat_minor": 2
}
