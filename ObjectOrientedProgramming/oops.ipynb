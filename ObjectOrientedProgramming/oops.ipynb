{
 "cells": [
  {
   "cell_type": "markdown",
   "metadata": {},
   "source": [
    "OBJECT ORIENTED PROGRAMMING\n",
    "\n",
    "There are mainly two popular approaches in programming for solving a problem:\n",
    "FUNCTIONAL APPROACH\n",
    "OBJECT-ORIENTED PROGRAMMING APPROACH.\n",
    "Solving a problem by creating object is one of the most popular approaches in programming. This is called object-oriented programming.\n",
    "\n",
    "This concept focuses on using reusable code (DRY Principle).\n",
    "DO NOT REPEAT YOURSELF PRINCIPLE\n",
    "\n",
    "CLASS\n",
    "\n",
    "A class is a blueprint for creating object.\n",
    "\n",
    "Combines info to create a valid application => Blank Form => Filled by a Student => Application of the Student \n",
    "\n",
    "Contains info to create a valid object => Class => Object instantiation => Object\n",
    "\n",
    "OBJECT\n",
    "\n",
    "An object is an instantiation of a class. When class is defined, a template (info) is defined. Memory is allocated only after object instantiation.\n",
    "Objects of a given class can invoke the methods available to it without revealing the implementation detailed to the user. - Abstraction & Encapsulation\n",
    "\n",
    "MODELLING A PROBLEM IN OOPS\n",
    "\n",
    "We identify the following in our problem.\n",
    "\n",
    "Noun => Class => Employee\n",
    "Adjective => Attributes => name, age, salary\n",
    "Verbs => Methods => getSalary(), increment()\n",
    "\n",
    "CLASS ATTRIBUTES\n",
    "\n",
    "An attribut that belongs to the class rather than a particular object.\n"
   ]
  },
  {
   "cell_type": "code",
   "execution_count": 2,
   "metadata": {},
   "outputs": [
    {
     "name": "stdout",
     "output_type": "stream",
     "text": [
      "Akanksha Python\n"
     ]
    }
   ],
   "source": [
    "class Employee:\n",
    "    name=\"Akanksha\"\n",
    "    language=\"Python\"\n",
    "    salary=4400000\n",
    "\n",
    "akanksha = Employee()\n",
    "print(akanksha.name, akanksha.language)"
   ]
  },
  {
   "cell_type": "markdown",
   "metadata": {},
   "source": [
    "CLASS ATTRIBUTES\n",
    "\n",
    "An attribute that belongs to the class rather than a particular object."
   ]
  },
  {
   "cell_type": "code",
   "execution_count": 6,
   "metadata": {},
   "outputs": [
    {
     "name": "stdout",
     "output_type": "stream",
     "text": [
      "130000 Artificial Intelligence & Machine Learning.\n",
      "Artificial Intelligence & Machine Learning. 130000\n",
      "Google\n"
     ]
    }
   ],
   "source": [
    "class Employee:\n",
    "    TechnologyStack=\"Artificial Intelligence & Machine Learning.\"\n",
    "    Salary = 130000\n",
    "\n",
    "riya = Employee()\n",
    "print(riya.Salary, riya.TechnologyStack)\n",
    "\n",
    "ram = Employee()\n",
    "print(ram.TechnologyStack, ram.Salary)\n",
    "\n",
    "class Employee1():\n",
    "    company = \"Google\" #Specification to Each Class\n",
    "\n",
    "akanksha = Employee1() #Object Instatiation\n",
    "akanksha.company\n",
    "Employee.company = \"YouTube\" #Changing the Class Attribute\n",
    "print(akanksha.company)"
   ]
  },
  {
   "cell_type": "markdown",
   "metadata": {},
   "source": [
    "INSTANCE ATTRIBUTES"
   ]
  },
  {
   "cell_type": "code",
   "execution_count": 8,
   "metadata": {},
   "outputs": [
    {
     "name": "stdout",
     "output_type": "stream",
     "text": [
      "akanksha Java 5600000 Google\n",
      "Google Ram Chandra 5600000 Java\n"
     ]
    }
   ],
   "source": [
    "#INSTANCE ATTRIBUTES\n",
    "\n",
    "#An attribute that belongs to the Instance (object). Assuming the class from the previous example:\n",
    "class Employee:\n",
    "    language = \"Java\" #This is a Class Attribute\n",
    "    company = \"Google\"#This is a Class Attribute\n",
    "    salary = 5600000  #This is a Class Attribute\n",
    "\n",
    "akanksha = Employee()\n",
    "akanksha.name=\"akanksha\" #This is an Object/Instance Attribute.\n",
    "print(akanksha.name, akanksha.language, akanksha.salary, akanksha.company)\n",
    "\n",
    "ram = Employee()\n",
    "ram.name = \"Ram Chandra\"\n",
    "print(ram.company, ram.name,ram.salary, ram.language)\n",
    "#Here \"name\" is object/instance attributes and \"company\", \"salary\" and \"language\" are class attributes as they directly belongs to the class.\n",
    "#NOTE : Instance attributes, take prefrence over class attributes during assignment & retrieval.\n",
    "\n",
    "#When looking up for akanksha.attribut it checks for the following:\n",
    "#1) Is attributes present in object?\n",
    "#2) Is attributes present in the class?"
   ]
  },
  {
   "cell_type": "markdown",
   "metadata": {},
   "source": [
    "INSTANCE ATTRIBUTES VS CLASS ATTRIBUTES"
   ]
  },
  {
   "cell_type": "code",
   "execution_count": 10,
   "metadata": {},
   "outputs": [
    {
     "name": "stdout",
     "output_type": "stream",
     "text": [
      "8900000 JavaScript\n"
     ]
    }
   ],
   "source": [
    "#INSTANCE ATTRIBUTES VS CLASS ATTRIBUTES\n",
    "#Instance Attributes, take preference over the Class Attributes during the assignment & retrieval.\n",
    "\n",
    "#When looking up for the akanksha.language it checks for the following:\n",
    "#1)Is attributes present in object/instance?\n",
    "#2)Is attributes present in class?\n",
    "\n",
    "class Employee():\n",
    "    language = \"Python\" #This is a Class attribute.\n",
    "    salary = 8900000\n",
    "\n",
    "akanksha = Employee()\n",
    "akanksha.language = \"JavaScript\" #This is an instance attribute\n",
    "print(akanksha.salary, akanksha.language)"
   ]
  },
  {
   "cell_type": "markdown",
   "metadata": {},
   "source": [
    "SELF PARAMETER\n",
    "self refers to the instance of the class. It is automatically passed with a function call from an object."
   ]
  },
  {
   "cell_type": "code",
   "execution_count": null,
   "metadata": {},
   "outputs": [
    {
     "name": "stdout",
     "output_type": "stream",
     "text": [
      "The Company is Google. The language is JavaScript. And, the Salary is 7800000\n",
      "The Company is Google. The language is JavaScript. And, the Salary is 7800000\n",
      "Good Morning\n"
     ]
    }
   ],
   "source": [
    "#SELF PARAMETER\n",
    "#akanksha.getSalary() # here self is akanksha\n",
    "#equivalent to Employee.getSalary(akanksha)\n",
    "#The function getSalary() is defined as:\n",
    "\n",
    "class Employee():\n",
    "    company = \"Google\" #This is Class Attribute.\n",
    "    language = \"Java\"\n",
    "    salary = 7800000\n",
    "    def getInfo(self):\n",
    "        print(f\"The Company is {self.company}. The language is {self.language}. And, the Salary is {self.salary}\")\n",
    "    @staticmethod\n",
    "    def greet():\n",
    "        print(\"Good Morning\")\n",
    "akanksha = Employee()\n",
    "akanksha.language = \"JavaScript\" #This is an instance attribute.capitalize\n",
    "akanksha.name=\"Akanksha\"\n",
    "akanksha.getInfo() # Another way to write this is: Employee.getInfo(akanksha)\n",
    "Employee.getInfo(akanksha)\n",
    "akanksha.greet()\n",
    "\n",
    "class Employee():\n",
    "    company=\"CISCO\"\n",
    "    def getSalary(self):\n",
    "        print(\"the salary isnot there.\")"
   ]
  },
  {
   "cell_type": "markdown",
   "metadata": {},
   "source": [
    "STATIC METHOD\n",
    "\n",
    "Sometimes we need a function that does not use the self-parameter. We can define a static method like this:"
   ]
  },
  {
   "cell_type": "code",
   "execution_count": null,
   "metadata": {},
   "outputs": [
    {
     "name": "stdout",
     "output_type": "stream",
     "text": [
      "Hello Akanksha\n"
     ]
    }
   ],
   "source": [
    "#static method\n",
    "#decorator to mark greet as a static method\n",
    "@staticmethod\n",
    "def greet():\n",
    "    print(\"Hello Akanksha\")\n",
    "\n",
    "greet()"
   ]
  }
 ],
 "metadata": {
  "kernelspec": {
   "display_name": "Python 3",
   "language": "python",
   "name": "python3"
  },
  "language_info": {
   "codemirror_mode": {
    "name": "ipython",
    "version": 3
   },
   "file_extension": ".py",
   "mimetype": "text/x-python",
   "name": "python",
   "nbconvert_exporter": "python",
   "pygments_lexer": "ipython3",
   "version": "3.13.0"
  }
 },
 "nbformat": 4,
 "nbformat_minor": 2
}
